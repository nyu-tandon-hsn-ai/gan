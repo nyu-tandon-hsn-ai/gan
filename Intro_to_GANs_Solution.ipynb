{
 "cells": [
  {
   "cell_type": "markdown",
   "metadata": {},
   "source": [
    "# Generative Adversarial Network\n",
    "\n",
    "In this notebook, we'll be building a generative adversarial network (GAN) trained on the network flow dataset."
   ]
  },
  {
   "cell_type": "code",
   "execution_count": 1,
   "metadata": {},
   "outputs": [
    {
     "name": "stderr",
     "output_type": "stream",
     "text": [
      "/scratch/sj2363/hsn/attack_generate/gan_attack_generate/.env/lib/python3.6/site-packages/h5py/__init__.py:36: FutureWarning: Conversion of the second argument of issubdtype from `float` to `np.floating` is deprecated. In future, it will be treated as `np.float64 == np.dtype(float).type`.\n",
      "  from ._conv import register_converters as _register_converters\n"
     ]
    }
   ],
   "source": [
    "%matplotlib inline\n",
    "\n",
    "import numpy as np\n",
    "import tensorflow as tf\n",
    "import matplotlib.pyplot as plt"
   ]
  },
  {
   "cell_type": "code",
   "execution_count": 2,
   "metadata": {},
   "outputs": [],
   "source": [
    "from utils import model_inputs, get_flow_dataset, train_test_split\n",
    "from models import generator, discriminator"
   ]
  },
  {
   "cell_type": "code",
   "execution_count": 3,
   "metadata": {},
   "outputs": [],
   "source": [
    "dataset = get_flow_dataset()\n",
    "train, test = train_test_split(dataset, 0.8)"
   ]
  },
  {
   "cell_type": "code",
   "execution_count": 4,
   "metadata": {},
   "outputs": [
    {
     "data": {
      "text/plain": [
       "(16000, 40)"
      ]
     },
     "execution_count": 4,
     "metadata": {},
     "output_type": "execute_result"
    }
   ],
   "source": [
    "train.shape"
   ]
  },
  {
   "cell_type": "code",
   "execution_count": 5,
   "metadata": {},
   "outputs": [
    {
     "data": {
      "text/plain": [
       "(4000, 40)"
      ]
     },
     "execution_count": 5,
     "metadata": {},
     "output_type": "execute_result"
    }
   ],
   "source": [
    "test.shape"
   ]
  },
  {
   "cell_type": "markdown",
   "metadata": {},
   "source": [
    "## Hyperparameters"
   ]
  },
  {
   "cell_type": "code",
   "execution_count": 6,
   "metadata": {},
   "outputs": [],
   "source": [
    "# Size of input image to discriminator\n",
    "input_size = 40\n",
    "# Size of latent vector to generator\n",
    "z_size = 100\n",
    "# Sizes of hidden layers in generator and discriminator\n",
    "g_hidden_size = 128\n",
    "d_hidden_size = 128\n",
    "# Leak factor for leaky ReLU\n",
    "alpha = 0.01\n",
    "# Smoothing \n",
    "smooth = 0.1"
   ]
  },
  {
   "cell_type": "markdown",
   "metadata": {},
   "source": [
    "## Build network\n",
    "\n",
    "Now we're building the network from the functions defined above.\n",
    "\n",
    "First is to get our inputs, `input_real, input_z` from `model_inputs` using the sizes of the input and z.\n",
    "\n",
    "Then, we'll create the generator, `generator(input_z, input_size)`. This builds the generator with the appropriate input and output sizes.\n",
    "\n",
    "Then the discriminators. We'll build two of them, one for real data and one for fake data. Since we want the weights to be the same for both real and fake data, we need to reuse the variables. For the fake data, we're getting it from the generator as `g_model`. So the real data discriminator is `discriminator(input_real)` while the fake discriminator is `discriminator(g_model, reuse=True)`."
   ]
  },
  {
   "cell_type": "code",
   "execution_count": 7,
   "metadata": {},
   "outputs": [],
   "source": [
    "tf.reset_default_graph()\n",
    "# Create our input placeholders\n",
    "input_real, input_z = model_inputs(input_size, z_size)\n",
    "\n",
    "# Build the model\n",
    "g_model = generator(input_z, input_size, n_units=g_hidden_size, alpha=alpha)\n",
    "# g_model is the generator output\n",
    "\n",
    "d_model_real, d_logits_real = discriminator(input_real, n_units=d_hidden_size, alpha=alpha)\n",
    "d_model_fake, d_logits_fake = discriminator(g_model, reuse=True, n_units=d_hidden_size, alpha=alpha)"
   ]
  },
  {
   "cell_type": "markdown",
   "metadata": {},
   "source": [
    "## Discriminator and Generator Losses\n",
    "\n",
    "Now we need to calculate the losses, which is a little tricky. For the discriminator, the total loss is the sum of the losses for real and fake images, `d_loss = d_loss_real + d_loss_fake`. The losses will by sigmoid cross-entropys, which we can get with `tf.nn.sigmoid_cross_entropy_with_logits`. We'll also wrap that in `tf.reduce_mean` to get the mean for all the images in the batch. So the losses will look something like \n",
    "\n",
    "```python\n",
    "tf.reduce_mean(tf.nn.sigmoid_cross_entropy_with_logits(logits=logits, labels=labels))\n",
    "```\n",
    "\n",
    "For the real image logits, we'll use `d_logits_real` which we got from the discriminator in the cell above. For the labels, we want them to be all ones, since these are all real images. To help the discriminator generalize better, the labels are reduced a bit from 1.0 to 0.9, for example,  using the parameter `smooth`. This is known as label smoothing, typically used with classifiers to improve performance. In TensorFlow, it looks something like `labels = tf.ones_like(tensor) * (1 - smooth)`\n",
    "\n",
    "The discriminator loss for the fake data is similar. The logits are `d_logits_fake`, which we got from passing the generator output to the discriminator. These fake logits are used with labels of all zeros. Remember that we want the discriminator to output 1 for real images and 0 for fake images, so we need to set up the losses to reflect that.\n",
    "\n",
    "Finally, the generator losses are using `d_logits_fake`, the fake image logits. But, now the labels are all ones. The generator is trying to fool the discriminator, so it wants to discriminator to output ones for fake images."
   ]
  },
  {
   "cell_type": "code",
   "execution_count": 8,
   "metadata": {},
   "outputs": [],
   "source": [
    "# Calculate losses\n",
    "d_loss_real = tf.reduce_mean(\n",
    "                  tf.nn.sigmoid_cross_entropy_with_logits(logits=d_logits_real, \n",
    "                                                          labels=tf.ones_like(d_logits_real) * (1 - smooth)))\n",
    "d_loss_fake = tf.reduce_mean(\n",
    "                  tf.nn.sigmoid_cross_entropy_with_logits(logits=d_logits_fake, \n",
    "                                                          labels=tf.zeros_like(d_logits_real)))\n",
    "d_loss = d_loss_real + d_loss_fake\n",
    "\n",
    "g_loss = tf.reduce_mean(\n",
    "             tf.nn.sigmoid_cross_entropy_with_logits(logits=d_logits_fake,\n",
    "                                                     labels=tf.ones_like(d_logits_fake)))"
   ]
  },
  {
   "cell_type": "markdown",
   "metadata": {},
   "source": [
    "## Optimizers\n",
    "\n",
    "We want to update the generator and discriminator variables separately. So we need to get the variables for each part build optimizers for the two parts. To get all the trainable variables, we use `tf.trainable_variables()`. This creates a list of all the variables we've defined in our graph.\n",
    "\n",
    "For the generator optimizer, we only want to generator variables. Our past selves were nice and used a variable scope to start all of our generator variable names with `generator`. So, we just need to iterate through the list from `tf.trainable_variables()` and keep variables to start with `generator`. Each variable object has an attribute `name` which holds the name of the variable as a string (`var.name == 'weights_0'` for instance). \n",
    "\n",
    "We can do something similar with the discriminator. All the variables in the discriminator start with `discriminator`.\n",
    "\n",
    "Then, in the optimizer we pass the variable lists to `var_list` in the `minimize` method. This tells the optimizer to only update the listed variables. Something like `tf.train.AdamOptimizer().minimize(loss, var_list=var_list)` will only train the variables in `var_list`."
   ]
  },
  {
   "cell_type": "code",
   "execution_count": 9,
   "metadata": {
    "scrolled": true
   },
   "outputs": [],
   "source": [
    "# Optimizers\n",
    "learning_rate = 0.002\n",
    "\n",
    "# Get the trainable_variables, split into G and D parts\n",
    "t_vars = tf.trainable_variables()\n",
    "g_vars = [var for var in t_vars if var.name.startswith('generator')]\n",
    "d_vars = [var for var in t_vars if var.name.startswith('discriminator')]\n",
    "\n",
    "d_train_opt = tf.train.AdamOptimizer(learning_rate).minimize(d_loss, var_list=d_vars)\n",
    "g_train_opt = tf.train.AdamOptimizer(learning_rate).minimize(g_loss, var_list=g_vars)"
   ]
  },
  {
   "cell_type": "markdown",
   "metadata": {},
   "source": [
    "## Training"
   ]
  },
  {
   "cell_type": "code",
   "execution_count": 10,
   "metadata": {
    "scrolled": true
   },
   "outputs": [
    {
     "name": "stdout",
     "output_type": "stream",
     "text": [
      "Epoch 1/200... Discriminator Loss: 0.3389... Generator Loss: 5.9586\n",
      "Epoch 2/200... Discriminator Loss: 0.3293... Generator Loss: 7.7626\n",
      "Epoch 3/200... Discriminator Loss: 0.3290... Generator Loss: 7.1964\n",
      "Epoch 4/200... Discriminator Loss: 0.3282... Generator Loss: 6.8510\n",
      "Epoch 5/200... Discriminator Loss: 0.3269... Generator Loss: 10.6777\n",
      "Epoch 6/200... Discriminator Loss: 0.3267... Generator Loss: 11.0285\n",
      "Epoch 7/200... Discriminator Loss: 0.3267... Generator Loss: 8.7173\n",
      "Epoch 8/200... Discriminator Loss: 0.3274... Generator Loss: 6.8933\n",
      "Epoch 9/200... Discriminator Loss: 0.3263... Generator Loss: 10.7104\n",
      "Epoch 10/200... Discriminator Loss: 0.3288... Generator Loss: 12.8962\n",
      "Epoch 11/200... Discriminator Loss: 0.3262... Generator Loss: 10.1557\n",
      "Epoch 12/200... Discriminator Loss: 0.3264... Generator Loss: 13.4282\n",
      "Epoch 13/200... Discriminator Loss: 0.3256... Generator Loss: 11.4605\n",
      "Epoch 14/200... Discriminator Loss: 0.3269... Generator Loss: 7.1222\n",
      "Epoch 15/200... Discriminator Loss: 0.3255... Generator Loss: 9.9242\n",
      "Epoch 16/200... Discriminator Loss: 0.3255... Generator Loss: 11.7959\n",
      "Epoch 17/200... Discriminator Loss: 0.3252... Generator Loss: 13.0151\n",
      "Epoch 18/200... Discriminator Loss: 0.3251... Generator Loss: 13.4970\n",
      "Epoch 19/200... Discriminator Loss: 0.3251... Generator Loss: 13.8313\n",
      "Epoch 20/200... Discriminator Loss: 0.3251... Generator Loss: 14.0827\n",
      "Epoch 21/200... Discriminator Loss: 0.3251... Generator Loss: 14.2943\n",
      "Epoch 22/200... Discriminator Loss: 0.3251... Generator Loss: 14.4814\n",
      "Epoch 23/200... Discriminator Loss: 0.3251... Generator Loss: 14.6445\n",
      "Epoch 24/200... Discriminator Loss: 0.3251... Generator Loss: 14.8024\n",
      "Epoch 25/200... Discriminator Loss: 0.3251... Generator Loss: 14.9569\n",
      "Epoch 26/200... Discriminator Loss: 0.3251... Generator Loss: 15.1133\n",
      "Epoch 27/200... Discriminator Loss: 0.3251... Generator Loss: 15.2707\n",
      "Epoch 28/200... Discriminator Loss: 0.3251... Generator Loss: 15.4111\n",
      "Epoch 29/200... Discriminator Loss: 0.3251... Generator Loss: 15.5514\n",
      "Epoch 30/200... Discriminator Loss: 0.3251... Generator Loss: 15.6750\n",
      "Epoch 31/200... Discriminator Loss: 0.3251... Generator Loss: 15.7827\n",
      "Epoch 32/200... Discriminator Loss: 0.3251... Generator Loss: 15.8920\n",
      "Epoch 33/200... Discriminator Loss: 0.3251... Generator Loss: 16.0007\n",
      "Epoch 34/200... Discriminator Loss: 0.3251... Generator Loss: 16.1102\n",
      "Epoch 35/200... Discriminator Loss: 0.3251... Generator Loss: 16.2140\n",
      "Epoch 36/200... Discriminator Loss: 0.3251... Generator Loss: 16.3272\n",
      "Epoch 37/200... Discriminator Loss: 0.3251... Generator Loss: 16.4389\n",
      "Epoch 38/200... Discriminator Loss: 0.3251... Generator Loss: 16.5400\n",
      "Epoch 39/200... Discriminator Loss: 0.3251... Generator Loss: 16.6431\n",
      "Epoch 40/200... Discriminator Loss: 0.3251... Generator Loss: 16.7505\n",
      "Epoch 41/200... Discriminator Loss: 0.3251... Generator Loss: 16.8599\n",
      "Epoch 42/200... Discriminator Loss: 0.3251... Generator Loss: 16.9595\n",
      "Epoch 43/200... Discriminator Loss: 0.3251... Generator Loss: 17.0566\n",
      "Epoch 44/200... Discriminator Loss: 0.3251... Generator Loss: 17.1457\n",
      "Epoch 45/200... Discriminator Loss: 0.3251... Generator Loss: 17.2428\n",
      "Epoch 46/200... Discriminator Loss: 0.3251... Generator Loss: 17.3464\n",
      "Epoch 47/200... Discriminator Loss: 0.3251... Generator Loss: 17.4552\n",
      "Epoch 48/200... Discriminator Loss: 0.3251... Generator Loss: 17.5549\n",
      "Epoch 49/200... Discriminator Loss: 0.3251... Generator Loss: 17.6045\n",
      "Epoch 50/200... Discriminator Loss: 0.3251... Generator Loss: 17.7460\n",
      "Epoch 51/200... Discriminator Loss: 0.3251... Generator Loss: 17.8104\n",
      "Epoch 52/200... Discriminator Loss: 0.3251... Generator Loss: 17.9081\n",
      "Epoch 53/200... Discriminator Loss: 0.3251... Generator Loss: 17.9138\n",
      "Epoch 54/200... Discriminator Loss: 0.3251... Generator Loss: 18.0506\n",
      "Epoch 55/200... Discriminator Loss: 0.3251... Generator Loss: 18.1607\n",
      "Epoch 56/200... Discriminator Loss: 0.3251... Generator Loss: 18.2311\n",
      "Epoch 57/200... Discriminator Loss: 0.3251... Generator Loss: 18.3204\n",
      "Epoch 58/200... Discriminator Loss: 0.3251... Generator Loss: 18.3873\n",
      "Epoch 59/200... Discriminator Loss: 0.3251... Generator Loss: 18.5617\n",
      "Epoch 60/200... Discriminator Loss: 0.3251... Generator Loss: 18.5265\n",
      "Epoch 61/200... Discriminator Loss: 0.3251... Generator Loss: 18.6089\n",
      "Epoch 62/200... Discriminator Loss: 0.3251... Generator Loss: 18.7016\n",
      "Epoch 63/200... Discriminator Loss: 0.3251... Generator Loss: 18.7938\n",
      "Epoch 64/200... Discriminator Loss: 0.3251... Generator Loss: 18.8629\n",
      "Epoch 65/200... Discriminator Loss: 0.3251... Generator Loss: 18.9097\n",
      "Epoch 66/200... Discriminator Loss: 0.3251... Generator Loss: 19.0005\n",
      "Epoch 67/200... Discriminator Loss: 0.3251... Generator Loss: 19.0655\n",
      "Epoch 68/200... Discriminator Loss: 0.3251... Generator Loss: 19.1189\n",
      "Epoch 69/200... Discriminator Loss: 0.3251... Generator Loss: 19.2152\n",
      "Epoch 70/200... Discriminator Loss: 0.3251... Generator Loss: 19.3138\n",
      "Epoch 71/200... Discriminator Loss: 0.3251... Generator Loss: 19.3629\n",
      "Epoch 72/200... Discriminator Loss: 0.3251... Generator Loss: 19.2864\n",
      "Epoch 73/200... Discriminator Loss: 0.3251... Generator Loss: 19.4555\n",
      "Epoch 74/200... Discriminator Loss: 0.3251... Generator Loss: 19.3980\n",
      "Epoch 75/200... Discriminator Loss: 0.3251... Generator Loss: 19.5159\n",
      "Epoch 76/200... Discriminator Loss: 0.3251... Generator Loss: 19.5845\n",
      "Epoch 77/200... Discriminator Loss: 0.3251... Generator Loss: 19.6472\n",
      "Epoch 78/200... Discriminator Loss: 0.3251... Generator Loss: 19.7056\n",
      "Epoch 79/200... Discriminator Loss: 0.3251... Generator Loss: 19.7658\n",
      "Epoch 80/200... Discriminator Loss: 0.3251... Generator Loss: 19.8437\n",
      "Epoch 81/200... Discriminator Loss: 0.3251... Generator Loss: 19.7456\n",
      "Epoch 82/200... Discriminator Loss: 0.3251... Generator Loss: 19.8178\n",
      "Epoch 83/200... Discriminator Loss: 0.3251... Generator Loss: 20.0012\n",
      "Epoch 84/200... Discriminator Loss: 0.3251... Generator Loss: 19.7674\n",
      "Epoch 85/200... Discriminator Loss: 0.3251... Generator Loss: 19.8014\n",
      "Epoch 86/200... Discriminator Loss: 0.3251... Generator Loss: 19.8323\n",
      "Epoch 87/200... Discriminator Loss: 0.3251... Generator Loss: 19.8783\n",
      "Epoch 88/200... Discriminator Loss: 0.3251... Generator Loss: 19.9322\n",
      "Epoch 89/200... Discriminator Loss: 0.3251... Generator Loss: 19.6694\n",
      "Epoch 90/200... Discriminator Loss: 0.3251... Generator Loss: 19.6943\n",
      "Epoch 91/200... Discriminator Loss: 0.3251... Generator Loss: 19.8635\n",
      "Epoch 92/200... Discriminator Loss: 0.3251... Generator Loss: 20.0642\n",
      "Epoch 93/200... Discriminator Loss: 0.3251... Generator Loss: 20.0488\n",
      "Epoch 94/200... Discriminator Loss: 0.3251... Generator Loss: 20.1057\n",
      "Epoch 95/200... Discriminator Loss: 0.3251... Generator Loss: 19.4325\n",
      "Epoch 96/200... Discriminator Loss: 0.3251... Generator Loss: 19.6618\n",
      "Epoch 97/200... Discriminator Loss: 0.3251... Generator Loss: 20.0875\n",
      "Epoch 98/200... Discriminator Loss: 0.3251... Generator Loss: 20.3806\n",
      "Epoch 99/200... Discriminator Loss: 0.3251... Generator Loss: 20.3766\n",
      "Epoch 100/200... Discriminator Loss: 0.3251... Generator Loss: 20.3681\n",
      "Epoch 101/200... Discriminator Loss: 0.3251... Generator Loss: 20.4697\n",
      "Epoch 102/200... Discriminator Loss: 0.3251... Generator Loss: 20.4461\n",
      "Epoch 103/200... Discriminator Loss: 0.3251... Generator Loss: 19.4521\n",
      "Epoch 104/200... Discriminator Loss: 0.3251... Generator Loss: 20.1480\n",
      "Epoch 105/200... Discriminator Loss: 0.3251... Generator Loss: 20.5371\n",
      "Epoch 106/200... Discriminator Loss: 0.3251... Generator Loss: 19.9610\n",
      "Epoch 107/200... Discriminator Loss: 0.3251... Generator Loss: 15.9671\n",
      "Epoch 108/200... Discriminator Loss: 0.3251... Generator Loss: 20.6103\n",
      "Epoch 109/200... Discriminator Loss: 0.3251... Generator Loss: 21.0427\n",
      "Epoch 110/200... Discriminator Loss: 0.3251... Generator Loss: 21.1673\n",
      "Epoch 111/200... Discriminator Loss: 0.3251... Generator Loss: 21.1684\n",
      "Epoch 112/200... Discriminator Loss: 0.3251... Generator Loss: 21.0617\n",
      "Epoch 113/200... Discriminator Loss: 0.3251... Generator Loss: 20.8396\n",
      "Epoch 114/200... Discriminator Loss: 0.3251... Generator Loss: 20.5236\n",
      "Epoch 115/200... Discriminator Loss: 0.3251... Generator Loss: 20.7445\n",
      "Epoch 116/200... Discriminator Loss: 0.3251... Generator Loss: 21.1164\n",
      "Epoch 117/200... Discriminator Loss: 0.3251... Generator Loss: 20.5065\n",
      "Epoch 118/200... Discriminator Loss: 0.3251... Generator Loss: 20.9284\n"
     ]
    },
    {
     "name": "stdout",
     "output_type": "stream",
     "text": [
      "Epoch 119/200... Discriminator Loss: 0.3251... Generator Loss: 20.8689\n",
      "Epoch 120/200... Discriminator Loss: 0.3251... Generator Loss: 20.5581\n",
      "Epoch 121/200... Discriminator Loss: 0.3251... Generator Loss: 20.9778\n",
      "Epoch 122/200... Discriminator Loss: 0.3251... Generator Loss: 20.8783\n",
      "Epoch 123/200... Discriminator Loss: 0.3251... Generator Loss: 20.7351\n",
      "Epoch 124/200... Discriminator Loss: 0.3251... Generator Loss: 21.1605\n",
      "Epoch 125/200... Discriminator Loss: 0.3251... Generator Loss: 21.6736\n",
      "Epoch 126/200... Discriminator Loss: 0.3251... Generator Loss: 17.6213\n",
      "Epoch 127/200... Discriminator Loss: 0.3255... Generator Loss: 12.9143\n",
      "Epoch 128/200... Discriminator Loss: 0.3251... Generator Loss: 16.5004\n",
      "Epoch 129/200... Discriminator Loss: 0.3251... Generator Loss: 17.2150\n",
      "Epoch 130/200... Discriminator Loss: 0.3251... Generator Loss: 17.8838\n",
      "Epoch 131/200... Discriminator Loss: 0.3251... Generator Loss: 18.2379\n",
      "Epoch 132/200... Discriminator Loss: 0.3251... Generator Loss: 18.5533\n",
      "Epoch 133/200... Discriminator Loss: 0.3251... Generator Loss: 18.8339\n",
      "Epoch 134/200... Discriminator Loss: 0.3251... Generator Loss: 19.0363\n",
      "Epoch 135/200... Discriminator Loss: 0.3252... Generator Loss: 14.0126\n",
      "Epoch 136/200... Discriminator Loss: 0.3251... Generator Loss: 15.1572\n",
      "Epoch 137/200... Discriminator Loss: 0.3251... Generator Loss: 15.0869\n",
      "Epoch 138/200... Discriminator Loss: 0.3251... Generator Loss: 15.8967\n",
      "Epoch 139/200... Discriminator Loss: 0.3251... Generator Loss: 16.3047\n",
      "Epoch 140/200... Discriminator Loss: 0.3251... Generator Loss: 16.6229\n",
      "Epoch 141/200... Discriminator Loss: 0.3251... Generator Loss: 16.9122\n",
      "Epoch 142/200... Discriminator Loss: 0.3251... Generator Loss: 17.1424\n",
      "Epoch 143/200... Discriminator Loss: 0.3251... Generator Loss: 17.3313\n",
      "Epoch 144/200... Discriminator Loss: 0.3251... Generator Loss: 17.4994\n",
      "Epoch 145/200... Discriminator Loss: 0.3251... Generator Loss: 17.6542\n",
      "Epoch 146/200... Discriminator Loss: 0.3251... Generator Loss: 17.8169\n",
      "Epoch 147/200... Discriminator Loss: 0.3251... Generator Loss: 17.9439\n",
      "Epoch 148/200... Discriminator Loss: 0.3251... Generator Loss: 18.0780\n",
      "Epoch 149/200... Discriminator Loss: 0.3251... Generator Loss: 18.2089\n",
      "Epoch 150/200... Discriminator Loss: 0.3251... Generator Loss: 18.3327\n",
      "Epoch 151/200... Discriminator Loss: 0.3251... Generator Loss: 18.4471\n",
      "Epoch 152/200... Discriminator Loss: 0.3251... Generator Loss: 18.5532\n",
      "Epoch 153/200... Discriminator Loss: 0.3251... Generator Loss: 18.6698\n",
      "Epoch 154/200... Discriminator Loss: 0.3251... Generator Loss: 18.7814\n",
      "Epoch 155/200... Discriminator Loss: 0.3251... Generator Loss: 18.8814\n",
      "Epoch 156/200... Discriminator Loss: 0.3251... Generator Loss: 18.9123\n",
      "Epoch 157/200... Discriminator Loss: 0.3251... Generator Loss: 19.0741\n",
      "Epoch 158/200... Discriminator Loss: 0.3251... Generator Loss: 19.1734\n",
      "Epoch 159/200... Discriminator Loss: 0.3251... Generator Loss: 19.2288\n",
      "Epoch 160/200... Discriminator Loss: 0.3251... Generator Loss: 19.2748\n",
      "Epoch 161/200... Discriminator Loss: 0.3251... Generator Loss: 19.2881\n",
      "Epoch 162/200... Discriminator Loss: 0.3251... Generator Loss: 19.4539\n",
      "Epoch 163/200... Discriminator Loss: 0.3251... Generator Loss: 19.5029\n",
      "Epoch 164/200... Discriminator Loss: 0.3251... Generator Loss: 19.5953\n",
      "Epoch 165/200... Discriminator Loss: 0.3251... Generator Loss: 18.9378\n",
      "Epoch 166/200... Discriminator Loss: 0.3251... Generator Loss: 19.2399\n",
      "Epoch 167/200... Discriminator Loss: 0.3251... Generator Loss: 19.3359\n",
      "Epoch 168/200... Discriminator Loss: 0.3251... Generator Loss: 19.4525\n",
      "Epoch 169/200... Discriminator Loss: 0.3251... Generator Loss: 19.5160\n",
      "Epoch 170/200... Discriminator Loss: 0.3251... Generator Loss: 19.4399\n",
      "Epoch 171/200... Discriminator Loss: 0.3251... Generator Loss: 19.7127\n",
      "Epoch 172/200... Discriminator Loss: 0.3251... Generator Loss: 19.8907\n",
      "Epoch 173/200... Discriminator Loss: 0.3251... Generator Loss: 19.0374\n",
      "Epoch 174/200... Discriminator Loss: 0.3251... Generator Loss: 18.5184\n",
      "Epoch 175/200... Discriminator Loss: 0.3251... Generator Loss: 19.1006\n",
      "Epoch 176/200... Discriminator Loss: 0.3251... Generator Loss: 19.5600\n",
      "Epoch 177/200... Discriminator Loss: 0.3251... Generator Loss: 19.7577\n",
      "Epoch 178/200... Discriminator Loss: 0.3251... Generator Loss: 19.8437\n",
      "Epoch 179/200... Discriminator Loss: 0.3251... Generator Loss: 20.2067\n",
      "Epoch 180/200... Discriminator Loss: 0.3251... Generator Loss: 19.7302\n",
      "Epoch 181/200... Discriminator Loss: 0.3251... Generator Loss: 19.9757\n",
      "Epoch 182/200... Discriminator Loss: 0.3251... Generator Loss: 20.3492\n",
      "Epoch 183/200... Discriminator Loss: 0.3251... Generator Loss: 20.6609\n",
      "Epoch 184/200... Discriminator Loss: 0.3251... Generator Loss: 20.5618\n",
      "Epoch 185/200... Discriminator Loss: 0.3251... Generator Loss: 20.6192\n",
      "Epoch 186/200... Discriminator Loss: 0.3251... Generator Loss: 20.3944\n",
      "Epoch 187/200... Discriminator Loss: 0.3251... Generator Loss: 20.7810\n",
      "Epoch 188/200... Discriminator Loss: 0.3251... Generator Loss: 20.3166\n",
      "Epoch 189/200... Discriminator Loss: 0.3251... Generator Loss: 20.3506\n",
      "Epoch 190/200... Discriminator Loss: 0.3251... Generator Loss: 20.6256\n",
      "Epoch 191/200... Discriminator Loss: 0.3251... Generator Loss: 20.0454\n",
      "Epoch 192/200... Discriminator Loss: 0.3251... Generator Loss: 20.4082\n",
      "Epoch 193/200... Discriminator Loss: 0.3251... Generator Loss: 20.7738\n",
      "Epoch 194/200... Discriminator Loss: 0.3251... Generator Loss: 20.7292\n",
      "Epoch 195/200... Discriminator Loss: 0.3251... Generator Loss: 20.9505\n",
      "Epoch 196/200... Discriminator Loss: 0.3251... Generator Loss: 20.4057\n",
      "Epoch 197/200... Discriminator Loss: 0.3251... Generator Loss: 19.4859\n",
      "Epoch 198/200... Discriminator Loss: 0.3251... Generator Loss: 20.6967\n",
      "Epoch 199/200... Discriminator Loss: 0.3251... Generator Loss: 21.2903\n",
      "Epoch 200/200... Discriminator Loss: 0.3251... Generator Loss: 21.6456\n"
     ]
    }
   ],
   "source": [
    "batch_size = 100\n",
    "epochs = 200\n",
    "samples = []\n",
    "losses = []\n",
    "# Only save generator variables\n",
    "saver = tf.train.Saver(var_list=g_vars)\n",
    "with tf.Session() as sess:\n",
    "    sess.run(tf.global_variables_initializer())\n",
    "    for e in range(epochs):\n",
    "        for ii in range(train.shape[0]//batch_size):\n",
    "            batch_real = train[ii * batch_size:(ii + 1) * batch_size]\n",
    "            \n",
    "            \n",
    "            # Sample random noise for G\n",
    "            batch_z = np.random.uniform(-1, 1, size=(batch_size, z_size))\n",
    "            \n",
    "            # Run optimizers\n",
    "            _ = sess.run(d_train_opt, feed_dict={input_real: batch_real, input_z: batch_z})\n",
    "            _ = sess.run(g_train_opt, feed_dict={input_z: batch_z})\n",
    "        \n",
    "        # At the end of each epoch, get the losses and print them out\n",
    "        train_loss_d = sess.run(d_loss, {input_z: batch_z, input_real: batch_real})\n",
    "        train_loss_g = g_loss.eval({input_z: batch_z})\n",
    "            \n",
    "        print(\"Epoch {}/{}...\".format(e+1, epochs),\n",
    "              \"Discriminator Loss: {:.4f}...\".format(train_loss_d),\n",
    "              \"Generator Loss: {:.4f}\".format(train_loss_g))    \n",
    "        # Save losses to view after training\n",
    "        losses.append((train_loss_d, train_loss_g))\n",
    "        \n",
    "        # Sample from generator as we're training for viewing afterwards\n",
    "        sample_z = np.random.uniform(-1, 1, size=(16, z_size))\n",
    "        gen_samples = sess.run(\n",
    "                       generator(input_z, input_size, reuse=True),\n",
    "                       feed_dict={input_z: sample_z})\n",
    "        samples.append(gen_samples)\n",
    "        saver.save(sess, './checkpoints/generator.ckpt')"
   ]
  },
  {
   "cell_type": "markdown",
   "metadata": {},
   "source": [
    "## Training loss\n",
    "\n",
    "Here we'll check out the training losses for the generator and discriminator."
   ]
  },
  {
   "cell_type": "code",
   "execution_count": 11,
   "metadata": {},
   "outputs": [
    {
     "data": {
      "text/plain": [
       "<matplotlib.legend.Legend at 0x2b895ac7a7b8>"
      ]
     },
     "execution_count": 11,
     "metadata": {},
     "output_type": "execute_result"
    },
    {
     "data": {
      "image/png": "[encoded data removed]",
      "text/plain": [
       "<Figure size 432x288 with 1 Axes>"
      ]
     },
     "metadata": {},
     "output_type": "display_data"
    }
   ],
   "source": [
    "fig, ax = plt.subplots()\n",
    "losses = np.array(losses)\n",
    "plt.plot(losses.T[0], label='Discriminator')\n",
    "plt.plot(losses.T[1], label='Generator')\n",
    "plt.title(\"Training Losses\")\n",
    "plt.legend()"
   ]
  },
  {
   "cell_type": "code",
   "execution_count": null,
   "metadata": {},
   "outputs": [],
   "source": []
  }
 ],
 "metadata": {
  "kernelspec": {
   "display_name": "Python 3",
   "language": "python",
   "name": "python3"
  },
  "language_info": {
   "codemirror_mode": {
    "name": "ipython",
    "version": 3
   },
   "file_extension": ".py",
   "mimetype": "text/x-python",
   "name": "python",
   "nbconvert_exporter": "python",
   "pygments_lexer": "ipython3",
   "version": "3.6.3"
  }
 },
 "nbformat": 4,
 "nbformat_minor": 2
}
