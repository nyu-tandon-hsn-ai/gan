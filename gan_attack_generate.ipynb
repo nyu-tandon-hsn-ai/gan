{
 "cells": [
  {
   "cell_type": "markdown",
   "metadata": {},
   "source": [
    "# Generative Adversarial Network\n",
    "\n",
    "In this notebook, we'll be building a generative adversarial network (GAN) trained on the network flow dataset."
   ]
  },
  {
   "cell_type": "code",
   "execution_count": 1,
   "metadata": {},
   "outputs": [
    {
     "name": "stderr",
     "output_type": "stream",
     "text": [
      "/scratch/sj2363/hsn/attack_generate/gan_attack_generate/.env/lib/python3.6/site-packages/h5py/__init__.py:36: FutureWarning: Conversion of the second argument of issubdtype from `float` to `np.floating` is deprecated. In future, it will be treated as `np.float64 == np.dtype(float).type`.\n",
      "  from ._conv import register_converters as _register_converters\n"
     ]
    }
   ],
   "source": [
    "%matplotlib inline\n",
    "\n",
    "import numpy as np\n",
    "import tensorflow as tf\n",
    "import matplotlib.pyplot as plt"
   ]
  },
  {
   "cell_type": "code",
   "execution_count": 2,
   "metadata": {},
   "outputs": [],
   "source": [
    "from importlib import reload\n",
    "import utils, models\n",
    "reload(utils)\n",
    "reload(models)\n",
    "from utils import model_inputs, get_flow_dataset, split_benign_attack, get_same_len_benign_attack\n",
    "from models import generator, discriminator"
   ]
  },
  {
   "cell_type": "code",
   "execution_count": 3,
   "metadata": {},
   "outputs": [],
   "source": [
    "dataset = get_flow_dataset()\n",
    "benign, attack = split_benign_attack(dataset)\n",
    "benign, attack = get_same_len_benign_attack(benign, attack)"
   ]
  },
  {
   "cell_type": "code",
   "execution_count": 4,
   "metadata": {},
   "outputs": [
    {
     "data": {
      "text/plain": [
       "(9933, 40)"
      ]
     },
     "execution_count": 4,
     "metadata": {},
     "output_type": "execute_result"
    }
   ],
   "source": [
    "benign.shape"
   ]
  },
  {
   "cell_type": "code",
   "execution_count": 5,
   "metadata": {},
   "outputs": [
    {
     "data": {
      "text/plain": [
       "(9933, 40)"
      ]
     },
     "execution_count": 5,
     "metadata": {},
     "output_type": "execute_result"
    }
   ],
   "source": [
    "attack.shape"
   ]
  },
  {
   "cell_type": "markdown",
   "metadata": {},
   "source": [
    "## Hyperparameters"
   ]
  },
  {
   "cell_type": "code",
   "execution_count": 6,
   "metadata": {},
   "outputs": [],
   "source": [
    "# Size of input image to discriminator\n",
    "input_size = 40\n",
    "# Size of latent vector to generator\n",
    "z_size = 2\n",
    "# Sizes of hidden layers in generator and discriminator\n",
    "g_hidden_size = 128\n",
    "d_hidden_size = 128\n",
    "# Leak factor for leaky ReLU\n",
    "alpha = 0.01\n",
    "# Smoothing \n",
    "smooth = 0.1"
   ]
  },
  {
   "cell_type": "markdown",
   "metadata": {},
   "source": [
    "## Build network\n",
    "\n",
    "Now we're building the network from the functions defined above.\n",
    "\n",
    "First is to get our inputs, `input_benign, input_z, input_attack_remains` from `model_inputs` using the sizes of the input and z.\n",
    "\n",
    "Then, we'll create the generator, `generator(input_z, z_size)`. This builds the generator with the appropriate input and output sizes.\n",
    "\n",
    "Then the discriminators. We'll build two of them, one for benign flow data and one for attack flow data. Since we want the weights to be the same for both benign and attack flow data, we need to reuse the variables. For the attack flow data, we're getting it from the output of the generator concatenated with remaining part of attack feature called `g_model`. So the benign data discriminator is `discriminator(input_benign)` while the attack discriminator is `discriminator(g_model, reuse=True)`."
   ]
  },
  {
   "cell_type": "code",
   "execution_count": 7,
   "metadata": {},
   "outputs": [],
   "source": [
    "tf.reset_default_graph()\n",
    "\n",
    "# Create our input placeholders\n",
    "input_benign, input_z, input_attack_remains = model_inputs(input_size, z_size, attack_remains_dim=input_size - z_size)\n",
    "\n",
    "# Build the model\n",
    "z_generated = generator(input_z, z_size, n_units=g_hidden_size, alpha=alpha)\n",
    "g_model = tf.concat([z_generated, input_attack_remains], 1)\n",
    "# g_model is the generator output concatenated with the remaining part of attack features\n",
    "\n",
    "d_model_benign, d_logits_benign = discriminator(input_benign, n_units=d_hidden_size, alpha=alpha)\n",
    "d_model_attack, d_logits_attack = discriminator(g_model, reuse=True, n_units=d_hidden_size, alpha=alpha)"
   ]
  },
  {
   "cell_type": "markdown",
   "metadata": {},
   "source": [
    "## Discriminator and Generator Losses\n",
    "\n",
    "Now we need to calculate the losses, which is a little tricky. For the discriminator, the total loss is the sum of the losses for benign and attack flows, `d_loss = d_loss_benign + d_loss_attack`. The losses will by sigmoid cross-entropys, which we can get with `tf.nn.sigmoid_cross_entropy_with_logits`. We'll also wrap that in `tf.reduce_mean` to get the mean for all the flows in the batch. So the losses will look something like \n",
    "\n",
    "```python\n",
    "tf.reduce_mean(tf.nn.sigmoid_cross_entropy_with_logits(logits=logits, labels=labels))\n",
    "```\n",
    "\n",
    "For the benign flow logits, we'll use `d_logits_benign` which we got from the discriminator in the cell above. For the labels, we want them to be all ones, since these are all real images. To help the discriminator generalize better, the labels are reduced a bit from 1.0 to 0.9, for example,  using the parameter `smooth`. This is known as label smoothing, typically used with classifiers to improve performance. In TensorFlow, it looks something like `labels = tf.ones_like(tensor) * (1 - smooth)`\n",
    "\n",
    "The discriminator loss for the attack flow data is similar. The logits are `d_logits_attack`, which we got from passing the generator output concatenated with remaing part of attack flow features to the discriminator. These attack logits are used with labels of all zeros. Remember that we want the discriminator to output 1 for benign flows and 0 for attack images, so we need to set up the losses to reflect that.\n",
    "\n",
    "Finally, the generator losses are using `d_logits_attack`, the attack flow logits. But, now the labels are all ones. The generator is trying to fool the discriminator, so it wants to discriminator to output ones for fake images."
   ]
  },
  {
   "cell_type": "code",
   "execution_count": 8,
   "metadata": {},
   "outputs": [],
   "source": [
    "# Calculate losses\n",
    "d_loss_benign = tf.reduce_mean(\n",
    "                  tf.nn.sigmoid_cross_entropy_with_logits(logits=d_logits_benign, \n",
    "                                                          labels=tf.ones_like(d_logits_benign) * (1 - smooth)))\n",
    "d_loss_attack = tf.reduce_mean(\n",
    "                  tf.nn.sigmoid_cross_entropy_with_logits(logits=d_logits_attack, \n",
    "                                                          labels=tf.zeros_like(d_logits_attack)))\n",
    "d_loss = d_loss_benign + d_loss_attack\n",
    "\n",
    "g_loss = tf.reduce_mean(\n",
    "             tf.nn.sigmoid_cross_entropy_with_logits(logits=d_logits_attack,\n",
    "                                                     labels=tf.ones_like(d_logits_attack)))"
   ]
  },
  {
   "cell_type": "markdown",
   "metadata": {},
   "source": [
    "## Optimizers\n",
    "\n",
    "We want to update the generator and discriminator variables separately. So we need to get the variables for each part build optimizers for the two parts. To get all the trainable variables, we use `tf.trainable_variables()`. This creates a list of all the variables we've defined in our graph.\n",
    "\n",
    "For the generator optimizer, we only want to generator variables. Our past selves were nice and used a variable scope to start all of our generator variable names with `generator`. So, we just need to iterate through the list from `tf.trainable_variables()` and keep variables to start with `generator`. Each variable object has an attribute `name` which holds the name of the variable as a string (`var.name == 'weights_0'` for instance). \n",
    "\n",
    "We can do something similar with the discriminator. All the variables in the discriminator start with `discriminator`.\n",
    "\n",
    "Then, in the optimizer we pass the variable lists to `var_list` in the `minimize` method. This tells the optimizer to only update the listed variables. Something like `tf.train.AdamOptimizer().minimize(loss, var_list=var_list)` will only train the variables in `var_list`."
   ]
  },
  {
   "cell_type": "code",
   "execution_count": 9,
   "metadata": {
    "scrolled": true
   },
   "outputs": [],
   "source": [
    "# Optimizers\n",
    "learning_rate = 0.002\n",
    "\n",
    "# Get the trainable_variables, split into G and D parts\n",
    "t_vars = tf.trainable_variables()\n",
    "g_vars = [var for var in t_vars if var.name.startswith('generator')]\n",
    "d_vars = [var for var in t_vars if var.name.startswith('discriminator')]\n",
    "\n",
    "d_train_opt = tf.train.AdamOptimizer(learning_rate).minimize(d_loss, var_list=d_vars)\n",
    "g_train_opt = tf.train.AdamOptimizer(learning_rate).minimize(g_loss, var_list=g_vars)"
   ]
  },
  {
   "cell_type": "markdown",
   "metadata": {},
   "source": [
    "## Training"
   ]
  },
  {
   "cell_type": "code",
   "execution_count": 26,
   "metadata": {
    "scrolled": true
   },
   "outputs": [
    {
     "name": "stdout",
     "output_type": "stream",
     "text": [
      "Epoch 1/100... Discriminator Loss: 0.6295... Generator Loss: 2.1615\n",
      "Epoch 2/100... Discriminator Loss: 0.5849... Generator Loss: 2.3136\n",
      "Epoch 3/100... Discriminator Loss: 0.6262... Generator Loss: 2.2200\n",
      "Epoch 4/100... Discriminator Loss: 0.6609... Generator Loss: 2.3709\n",
      "Epoch 5/100... Discriminator Loss: 0.6068... Generator Loss: 2.2871\n",
      "Epoch 6/100... Discriminator Loss: 0.5662... Generator Loss: 2.4837\n",
      "Epoch 7/100... Discriminator Loss: 0.6207... Generator Loss: 1.6494\n",
      "Epoch 8/100... Discriminator Loss: 1.0011... Generator Loss: 1.2642\n",
      "Epoch 9/100... Discriminator Loss: 0.5756... Generator Loss: 2.9291\n",
      "Epoch 10/100... Discriminator Loss: 0.4755... Generator Loss: 2.9816\n",
      "Epoch 11/100... Discriminator Loss: 0.4845... Generator Loss: 2.9469\n",
      "Epoch 12/100... Discriminator Loss: 0.4062... Generator Loss: 3.8116\n",
      "Epoch 13/100... Discriminator Loss: 0.4356... Generator Loss: 4.1700\n",
      "Epoch 14/100... Discriminator Loss: 0.4000... Generator Loss: 4.4652\n",
      "Epoch 15/100... Discriminator Loss: 0.3713... Generator Loss: 3.4513\n",
      "Epoch 16/100... Discriminator Loss: 0.4094... Generator Loss: 3.6201\n",
      "Epoch 17/100... Discriminator Loss: 0.3445... Generator Loss: 4.3168\n",
      "Epoch 18/100... Discriminator Loss: 0.3587... Generator Loss: 4.0165\n",
      "Epoch 19/100... Discriminator Loss: 0.3693... Generator Loss: 4.5530\n",
      "Epoch 20/100... Discriminator Loss: 0.4215... Generator Loss: 5.5867\n",
      "Epoch 21/100... Discriminator Loss: 0.3525... Generator Loss: 3.9909\n",
      "Epoch 22/100... Discriminator Loss: 0.3539... Generator Loss: 5.6740\n",
      "Epoch 23/100... Discriminator Loss: 0.3652... Generator Loss: 5.6759\n",
      "Epoch 24/100... Discriminator Loss: 0.3446... Generator Loss: 5.9299\n",
      "Epoch 25/100... Discriminator Loss: 0.3690... Generator Loss: 4.7755\n",
      "Epoch 26/100... Discriminator Loss: 0.6055... Generator Loss: 3.0563\n",
      "Epoch 27/100... Discriminator Loss: 0.6076... Generator Loss: 3.3430\n",
      "Epoch 28/100... Discriminator Loss: 0.5838... Generator Loss: 2.1673\n",
      "Epoch 29/100... Discriminator Loss: 0.5578... Generator Loss: 2.5779\n",
      "Epoch 30/100... Discriminator Loss: 0.5056... Generator Loss: 2.6679\n",
      "Epoch 31/100... Discriminator Loss: 0.4837... Generator Loss: 3.2675\n",
      "Epoch 32/100... Discriminator Loss: 0.4284... Generator Loss: 3.3426\n",
      "Epoch 33/100... Discriminator Loss: 0.3783... Generator Loss: 6.9777\n",
      "Epoch 34/100... Discriminator Loss: 1.8798... Generator Loss: 0.4011\n",
      "Epoch 35/100... Discriminator Loss: 0.5711... Generator Loss: 2.4941\n",
      "Epoch 36/100... Discriminator Loss: 0.4530... Generator Loss: 4.5216\n",
      "Epoch 37/100... Discriminator Loss: 0.4247... Generator Loss: 3.7453\n",
      "Epoch 38/100... Discriminator Loss: 0.3661... Generator Loss: 3.9887\n",
      "Epoch 39/100... Discriminator Loss: 0.4330... Generator Loss: 4.6464\n",
      "Epoch 40/100... Discriminator Loss: 0.3660... Generator Loss: 4.5381\n",
      "Epoch 41/100... Discriminator Loss: 0.3411... Generator Loss: 4.5670\n",
      "Epoch 42/100... Discriminator Loss: 0.3643... Generator Loss: 3.8775\n",
      "Epoch 43/100... Discriminator Loss: 0.3789... Generator Loss: 3.9064\n",
      "Epoch 44/100... Discriminator Loss: 0.3484... Generator Loss: 4.3632\n",
      "Epoch 45/100... Discriminator Loss: 0.3612... Generator Loss: 4.5574\n",
      "Epoch 46/100... Discriminator Loss: 0.3331... Generator Loss: 5.1493\n",
      "Epoch 47/100... Discriminator Loss: 0.4308... Generator Loss: 7.6122\n",
      "Epoch 48/100... Discriminator Loss: 0.3983... Generator Loss: 4.7229\n",
      "Epoch 49/100... Discriminator Loss: 0.4236... Generator Loss: 4.8141\n",
      "Epoch 50/100... Discriminator Loss: 0.3514... Generator Loss: 6.2830\n",
      "Epoch 51/100... Discriminator Loss: 0.3257... Generator Loss: 8.1633\n",
      "Epoch 52/100... Discriminator Loss: 0.3253... Generator Loss: 9.5401\n",
      "Epoch 53/100... Discriminator Loss: 0.3252... Generator Loss: 9.9500\n",
      "Epoch 54/100... Discriminator Loss: 0.3252... Generator Loss: 10.4442\n",
      "Epoch 55/100... Discriminator Loss: 0.3252... Generator Loss: 10.6143\n",
      "Epoch 56/100... Discriminator Loss: 0.3252... Generator Loss: 10.9925\n",
      "Epoch 57/100... Discriminator Loss: 0.3252... Generator Loss: 10.5924\n",
      "Epoch 58/100... Discriminator Loss: 0.3252... Generator Loss: 11.4125\n",
      "Epoch 59/100... Discriminator Loss: 0.3251... Generator Loss: 11.7279\n",
      "Epoch 60/100... Discriminator Loss: 0.3251... Generator Loss: 11.9902\n",
      "Epoch 61/100... Discriminator Loss: 0.3251... Generator Loss: 12.2765\n",
      "Epoch 62/100... Discriminator Loss: 0.3251... Generator Loss: 12.6235\n",
      "Epoch 63/100... Discriminator Loss: 0.3251... Generator Loss: 12.7422\n",
      "Epoch 64/100... Discriminator Loss: 0.3251... Generator Loss: 12.7703\n",
      "Epoch 65/100... Discriminator Loss: 0.3251... Generator Loss: 13.1826\n",
      "Epoch 66/100... Discriminator Loss: 0.3251... Generator Loss: 13.2256\n",
      "Epoch 67/100... Discriminator Loss: 0.3251... Generator Loss: 13.2954\n",
      "Epoch 68/100... Discriminator Loss: 0.3251... Generator Loss: 13.2198\n",
      "Epoch 69/100... Discriminator Loss: 0.3251... Generator Loss: 13.4626\n",
      "Epoch 70/100... Discriminator Loss: 0.3251... Generator Loss: 13.6962\n",
      "Epoch 71/100... Discriminator Loss: 0.3251... Generator Loss: 13.7125\n",
      "Epoch 72/100... Discriminator Loss: 0.3251... Generator Loss: 13.8001\n",
      "Epoch 73/100... Discriminator Loss: 0.3251... Generator Loss: 13.8208\n",
      "Epoch 74/100... Discriminator Loss: 0.3251... Generator Loss: 14.0220\n",
      "Epoch 75/100... Discriminator Loss: 0.3251... Generator Loss: 14.1650\n",
      "Epoch 76/100... Discriminator Loss: 0.3251... Generator Loss: 14.1521\n",
      "Epoch 77/100... Discriminator Loss: 0.3251... Generator Loss: 14.1577\n",
      "Epoch 78/100... Discriminator Loss: 0.3251... Generator Loss: 14.2960\n",
      "Epoch 79/100... Discriminator Loss: 0.3251... Generator Loss: 14.4402\n",
      "Epoch 80/100... Discriminator Loss: 0.3251... Generator Loss: 14.3857\n",
      "Epoch 81/100... Discriminator Loss: 0.3251... Generator Loss: 14.5809\n",
      "Epoch 82/100... Discriminator Loss: 0.3251... Generator Loss: 14.6077\n",
      "Epoch 83/100... Discriminator Loss: 0.3251... Generator Loss: 14.6022\n",
      "Epoch 84/100... Discriminator Loss: 0.3251... Generator Loss: 14.5804\n",
      "Epoch 85/100... Discriminator Loss: 0.3251... Generator Loss: 14.9356\n",
      "Epoch 86/100... Discriminator Loss: 0.3251... Generator Loss: 14.9569\n",
      "Epoch 87/100... Discriminator Loss: 0.3251... Generator Loss: 14.9682\n",
      "Epoch 88/100... Discriminator Loss: 0.3251... Generator Loss: 15.1088\n",
      "Epoch 89/100... Discriminator Loss: 0.3251... Generator Loss: 15.0104\n",
      "Epoch 90/100... Discriminator Loss: 0.3251... Generator Loss: 15.0434\n",
      "Epoch 91/100... Discriminator Loss: 0.3251... Generator Loss: 15.2593\n",
      "Epoch 92/100... Discriminator Loss: 0.3251... Generator Loss: 15.1983\n",
      "Epoch 93/100... Discriminator Loss: 0.3251... Generator Loss: 15.2870\n",
      "Epoch 94/100... Discriminator Loss: 0.3251... Generator Loss: 15.3608\n",
      "Epoch 95/100... Discriminator Loss: 0.3251... Generator Loss: 15.4706\n",
      "Epoch 96/100... Discriminator Loss: 0.3251... Generator Loss: 15.5697\n",
      "Epoch 97/100... Discriminator Loss: 0.3251... Generator Loss: 15.6041\n",
      "Epoch 98/100... Discriminator Loss: 0.3251... Generator Loss: 15.6167\n",
      "Epoch 99/100... Discriminator Loss: 0.3251... Generator Loss: 15.6644\n",
      "Epoch 100/100... Discriminator Loss: 0.3251... Generator Loss: 15.6994\n"
     ]
    }
   ],
   "source": [
    "batch_size = 100\n",
    "epochs = 100\n",
    "losses = []\n",
    "flow_infos = []\n",
    "# Only save generator variables\n",
    "saver = tf.train.Saver(var_list=g_vars)\n",
    "with tf.Session() as sess:\n",
    "    sess.run(tf.global_variables_initializer())\n",
    "    for e in range(epochs):\n",
    "        np.random.shuffle(benign)\n",
    "        np.random.shuffle(attack)\n",
    "        flow_infos.append([])\n",
    "        for ii in range(benign.shape[0]//batch_size):\n",
    "            batch_benign = benign[ii * batch_size:(ii + 1) * batch_size]\n",
    "            \n",
    "            batch_attack = attack[ii * batch_size:(ii + 1) * batch_size]\n",
    "            batch_z = batch_attack[:,:z_size]\n",
    "            batch_attack_remains = batch_attack[:,z_size:]\n",
    "            \n",
    "            if ii == 0:\n",
    "                from copy import deepcopy\n",
    "                original_flow = batch_attack\n",
    "                generated_flow = sess.run(g_model, feed_dict={input_z: batch_z, input_attack_remains: batch_attack_remains})\n",
    "                attack_score = sess.run(d_model_attack, feed_dict={input_z: batch_z, input_attack_remains: batch_attack_remains})\n",
    "                flow_infos[-1].append((deepcopy(original_flow[0]), generated_flow[0], attack_score[0] >= 0.5))\n",
    "                \n",
    "            \n",
    "            # Run optimizers\n",
    "            _ = sess.run(d_train_opt, feed_dict={input_benign: batch_benign, input_z: batch_z, input_attack_remains: batch_attack_remains})\n",
    "            _ = sess.run(g_train_opt, feed_dict={input_z: batch_z, input_attack_remains: batch_attack_remains})\n",
    "        \n",
    "        # At the end of each epoch, get the losses and print them out\n",
    "        train_loss_d = sess.run(d_loss, {input_z: batch_z, input_benign: batch_benign, input_attack_remains: batch_attack_remains})\n",
    "        train_loss_g = g_loss.eval({input_z: batch_z, input_attack_remains: batch_attack_remains})\n",
    "            \n",
    "        print(\"Epoch {}/{}...\".format(e+1, epochs),\n",
    "              \"Discriminator Loss: {:.4f}...\".format(train_loss_d),\n",
    "              \"Generator Loss: {:.4f}\".format(train_loss_g))    \n",
    "        # Save losses to view after training\n",
    "        losses.append((train_loss_d, train_loss_g))\n",
    "        \n",
    "        saver.save(sess, './checkpoints/generator.ckpt')"
   ]
  },
  {
   "cell_type": "markdown",
   "metadata": {},
   "source": [
    "## Training loss\n",
    "\n",
    "Here we'll check out the training losses for the generator and discriminator."
   ]
  },
  {
   "cell_type": "code",
   "execution_count": 27,
   "metadata": {},
   "outputs": [
    {
     "data": {
      "text/plain": [
       "<matplotlib.legend.Legend at 0x2af96fee8a20>"
      ]
     },
     "execution_count": 27,
     "metadata": {},
     "output_type": "execute_result"
    },
    {
     "data": {
      "image/png": "[encoded data removed]",
      "text/plain": [
       "<Figure size 432x288 with 1 Axes>"
      ]
     },
     "metadata": {},
     "output_type": "display_data"
    }
   ],
   "source": [
    "fig, ax = plt.subplots()\n",
    "losses = np.array(losses)\n",
    "plt.plot(losses.T[0], label='Discriminator')\n",
    "plt.plot(losses.T[1], label='Generator')\n",
    "plt.title(\"Training Losses\")\n",
    "plt.legend()"
   ]
  },
  {
   "cell_type": "code",
   "execution_count": null,
   "metadata": {},
   "outputs": [],
   "source": []
  }
 ],
 "metadata": {
  "kernelspec": {
   "display_name": "Python 3",
   "language": "python",
   "name": "python3"
  },
  "language_info": {
   "codemirror_mode": {
    "name": "ipython",
    "version": 3
   },
   "file_extension": ".py",
   "mimetype": "text/x-python",
   "name": "python",
   "nbconvert_exporter": "python",
   "pygments_lexer": "ipython3",
   "version": "3.6.3"
  }
 },
 "nbformat": 4,
 "nbformat_minor": 2
}
