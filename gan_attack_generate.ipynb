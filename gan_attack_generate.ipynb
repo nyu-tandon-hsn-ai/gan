{
 "cells": [
  {
   "cell_type": "markdown",
   "metadata": {},
   "source": [
    "# Generative Adversarial Network\n",
    "\n",
    "In this notebook, we'll be building a generative adversarial network (GAN) trained on the network flow dataset."
   ]
  },
  {
   "cell_type": "markdown",
   "metadata": {},
   "source": [
    "## Import Libraries"
   ]
  },
  {
   "cell_type": "code",
   "execution_count": 1,
   "metadata": {},
   "outputs": [
    {
     "name": "stderr",
     "output_type": "stream",
     "text": [
      "/scratch/sj2363/hsn/attack_generate/gan_attack_generate/.env/lib/python3.6/site-packages/h5py/__init__.py:36: FutureWarning: Conversion of the second argument of issubdtype from `float` to `np.floating` is deprecated. In future, it will be treated as `np.float64 == np.dtype(float).type`.\n",
      "  from ._conv import register_converters as _register_converters\n"
     ]
    },
    {
     "name": "stdout",
     "output_type": "stream",
     "text": [
      "TensorFlow version: 1.8.0\n",
      "Eager execution: True\n"
     ]
    }
   ],
   "source": [
    "from __future__ import absolute_import, division, print_function\n",
    "\n",
    "import numpy as np\n",
    "import pandas as pd\n",
    "import matplotlib.pyplot as plt\n",
    "%matplotlib inline\n",
    "from importlib import reload\n",
    "import os\n",
    "import time\n",
    "from sklearn.model_selection import train_test_split\n",
    "\n",
    "import tensorflow as tf\n",
    "import tensorflow.contrib.eager as tfe\n",
    "\n",
    "tf.enable_eager_execution()\n",
    "\n",
    "print(\"TensorFlow version: {}\".format(tf.VERSION))\n",
    "print(\"Eager execution: {}\".format(tf.executing_eagerly()))"
   ]
  },
  {
   "cell_type": "code",
   "execution_count": 2,
   "metadata": {},
   "outputs": [],
   "source": [
    "import utils, models\n",
    "reload(utils)\n",
    "reload(models)\n",
    "from models import Generator, Discriminator\n",
    "from utils import max_norm, parse_feature_label, sample_n_number, train_one_epoch"
   ]
  },
  {
   "cell_type": "markdown",
   "metadata": {},
   "source": [
    "## Define Constants"
   ]
  },
  {
   "cell_type": "code",
   "execution_count": 3,
   "metadata": {},
   "outputs": [],
   "source": [
    "IDS_DATASET = os.path.join('data', 'ids2017_sampled.csv')\n",
    "RELEVANT_FEATURES = [' Source Port', ' Destination Port', ' Flow Duration', 'Total Length of Fwd Packets', ' Total Length of Bwd Packets', 'Bwd Packet Length Max', ' Bwd Packet Length Min', 'Flow Bytes/s', ' Flow IAT Mean', ' Flow IAT Std', ' Flow IAT Max', ' Flow IAT Min', 'Fwd IAT Total', ' Fwd IAT Mean', ' Fwd IAT Std', ' Fwd IAT Min', 'Bwd IAT Total', ' Bwd IAT Mean', ' Bwd IAT Std', ' Bwd IAT Min', 'Fwd PSH Flags', ' Bwd PSH Flags', ' Fwd URG Flags', ' Fwd Header Length', ' Bwd Packets/s', ' Packet Length Mean', ' ACK Flag Count', ' Down/Up Ratio', ' Avg Fwd Segment Size', ' Fwd Header Length.1', 'Fwd Avg Bytes/Bulk', ' Fwd Avg Packets/Bulk', ' Bwd Avg Bytes/Bulk', 'Bwd Avg Bulk Rate', 'Subflow Fwd Packets', ' Subflow Fwd Bytes', 'Init_Win_bytes_forward', ' act_data_pkt_fwd', ' Active Std', ' Active Min', ' Idle Max']\n",
    "LABEL_NAME = ' Label'\n",
    "BENIGN_LABEL = 0\n",
    "ATTACK_LABEL = 2\n",
    "TRAIN_FRAC = 0.3\n",
    "FEATURE_NUM_MODIFIED = 2\n",
    "LEARNING_RATE = 0.01\n",
    "OUTPUT_DIR = 'SUMMARY/'\n",
    "CHECKPOINT_DIR = 'CHECKPOINT/'\n",
    "EPOCHS = 200\n",
    "LOG_INTERVAL = 100"
   ]
  },
  {
   "cell_type": "markdown",
   "metadata": {},
   "source": [
    "## Load and normalize data"
   ]
  },
  {
   "cell_type": "code",
   "execution_count": 4,
   "metadata": {},
   "outputs": [
    {
     "name": "stdout",
     "output_type": "stream",
     "text": [
      "Flow ID, Source IP, Source Port, Destination IP, Destination Port, Protocol, Timestamp, Flow Duration, Total Fwd Packets, Total Backward Packets,Total Length of Fwd Packets, Total Length of Bwd Packets, Fwd Packet Length Max, Fwd Packet Length Min, Fwd Packet Length Mean, Fwd Packet Length Std,Bwd Packet Length Max, Bwd Packet Length Min, Bwd Packet Length Mean, Bwd Packet Length Std,Flow Bytes/s, Flow Packets/s, Flow IAT Mean, Flow IAT Std, Flow IAT Max, Flow IAT Min,Fwd IAT Total, Fwd IAT Mean, Fwd IAT Std, Fwd IAT Max, Fwd IAT Min,Bwd IAT Total, Bwd IAT Mean, Bwd IAT Std, Bwd IAT Max, Bwd IAT Min,Fwd PSH Flags, Bwd PSH Flags, Fwd URG Flags, Bwd URG Flags, Fwd Header Length, Bwd Header Length,Fwd Packets/s, Bwd Packets/s, Min Packet Length, Max Packet Length, Packet Length Mean, Packet Length Std, Packet Length Variance,FIN Flag Count, SYN Flag Count, RST Flag Count, PSH Flag Count, ACK Flag Count, URG Flag Count, CWE Flag Count, ECE Flag Count, Down/Up Ratio, Average Packet Size, Avg Fwd Segment Size, Avg Bwd Segment Size, Fwd Header Length.1,Fwd Avg Bytes/Bulk, Fwd Avg Packets/Bulk, Fwd Avg Bulk Rate, Bwd Avg Bytes/Bulk, Bwd Avg Packets/Bulk,Bwd Avg Bulk Rate,Subflow Fwd Packets, Subflow Fwd Bytes, Subflow Bwd Packets, Subflow Bwd Bytes,Init_Win_bytes_forward, Init_Win_bytes_backward, act_data_pkt_fwd, min_seg_size_forward,Active Mean, Active Std, Active Max, Active Min,Idle Mean, Idle Std, Idle Max, Idle Min, Label\r\n",
      "214102,192.168.10.8,50305,23.194.108.67,80,6,5/7/2017 9:35,5559809,3,1,12,0.0,6,0,4.0,3.464101615,0,0,0.0,0.0,2.158347526,0.719449175,1853269.667,3189322.073,5535956.0,39.0,5559809.0,2779904.5,3897645.41,5535956.0,23853.0,0.0,0.0,0.0,0.0,0.0,0,0,0,0,72,32,0.539586881,0.179862294,0,6,2.4,3.286335345,10.8,0,0,0,1,0,0,0,0,0,3.0,4.0,0.0,72,0,0,0,0,0,0,3,12,1,0,8192,29200,2,20,0.0,0.0,0.0,0.0,0.0,0.0,0.0,0.0,0\r\n",
      "36502,172.217.11.3,80,192.168.10.8,49917,6,5/7/2017 9:31,18,1,1,6,6.0,6,6,6.0,0.0,6,6,6.0,0.0,666666.6667,111111.1111,18.0,0.0,18.0,18.0,0.0,0.0,0.0,0.0,0.0,0.0,0.0,0.0,0.0,0.0,0,0,0,0,20,20,55555.55556,55555.55556,6,6,6.0,0.0,0.0,0,0,0,0,1,1,0,0,1,9.0,6.0,6.0,20,0,0,0,0,0,0,1,6,1,6,343,16560,0,20,0.0,0.0,0.0,0.0,0.0,0.0,0.0,0.0,0\r\n",
      "24975,192.168.10.50,80,172.16.0.1,51484,6,5/7/2017 11:00,12859,1,3,0,18.0,0,0,0.0,0.0,6,6,6.0,0.0,1399.797807,311.0661793,4286.333333,6734.794825,12049.0,1.0,0.0,0.0,0.0,0.0,0.0,12050.0,6025.0,8519.2225,12049.0,1.0,0,0,0,0,32,60,77.76654483,233.2996345,0,6,3.6,3.286335345,10.8,0,0,0,0,1,0,0,0,3,4.5,0.0,6.0,32,0,0,0,0,0,0,1,0,3,18,235,0,0,32,0.0,0.0,0.0,0.0,0.0,0.0,0.0,0.0,0\r\n",
      "151291,192.168.10.19,27610,192.168.10.3,53,17,5/7/2017 3:08,231,2,2,62,94.0,31,31,31.0,0.0,47,47,47.0,0.0,675324.6753,17316.01732,77.0,91.27978966,179.0,3.0,3.0,3.0,0.0,3.0,3.0,49.0,49.0,0.0,49.0,49.0,0,0,0,0,40,40,8658.008658,8658.008658,31,47,37.4,8.76356092,76.8,0,0,0,0,0,0,0,0,1,46.75,31.0,47.0,40,0,0,0,0,0,0,2,62,2,94,-1,-1,1,20,0.0,0.0,0.0,0.0,0.0,0.0,0.0,0.0,0\r\n"
     ]
    }
   ],
   "source": [
    "# quick view of dataset\n",
    "!head -n5 {IDS_DATASET}"
   ]
  },
  {
   "cell_type": "code",
   "execution_count": 5,
   "metadata": {},
   "outputs": [],
   "source": [
    "# read csv\n",
    "df = pd.read_csv(IDS_DATASET)"
   ]
  },
  {
   "cell_type": "code",
   "execution_count": 6,
   "metadata": {},
   "outputs": [],
   "source": [
    "# extract relevant features and label name\n",
    "df = df[RELEVANT_FEATURES + [LABEL_NAME]]"
   ]
  },
  {
   "cell_type": "code",
   "execution_count": 7,
   "metadata": {},
   "outputs": [],
   "source": [
    "# extract bengin and attack flows we want\n",
    "benign_df, attack_df = df[(df[LABEL_NAME] == BENIGN_LABEL)], df[(df[LABEL_NAME] == ATTACK_LABEL)]"
   ]
  },
  {
   "cell_type": "code",
   "execution_count": 8,
   "metadata": {},
   "outputs": [
    {
     "name": "stderr",
     "output_type": "stream",
     "text": [
      "/scratch/sj2363/hsn/attack_generate/gan_attack_generate/.env/lib/python3.6/site-packages/pandas/core/indexing.py:543: SettingWithCopyWarning: \n",
      "A value is trying to be set on a copy of a slice from a DataFrame.\n",
      "Try using .loc[row_indexer,col_indexer] = value instead\n",
      "\n",
      "See the caveats in the documentation: http://pandas.pydata.org/pandas-docs/stable/indexing.html#indexing-view-versus-copy\n",
      "  self.obj[item] = s\n"
     ]
    }
   ],
   "source": [
    "# rewrite label values\n",
    "benign_df.loc[:, LABEL_NAME] = 0\n",
    "attack_df.loc[:, LABEL_NAME] = 1"
   ]
  },
  {
   "cell_type": "code",
   "execution_count": 9,
   "metadata": {},
   "outputs": [],
   "source": [
    "# convert to numpy\n",
    "benign, attack = benign_df.values, attack_df.values"
   ]
  },
  {
   "cell_type": "code",
   "execution_count": 10,
   "metadata": {},
   "outputs": [],
   "source": [
    "# max normalization\n",
    "benign[:, :len(RELEVANT_FEATURES)] = max_norm(benign[:, :len(RELEVANT_FEATURES)])\n",
    "attack[:, :len(RELEVANT_FEATURES)] = max_norm(attack[:, :len(RELEVANT_FEATURES)])"
   ]
  },
  {
   "cell_type": "code",
   "execution_count": 11,
   "metadata": {},
   "outputs": [
    {
     "name": "stderr",
     "output_type": "stream",
     "text": [
      "/scratch/sj2363/hsn/attack_generate/gan_attack_generate/.env/lib/python3.6/site-packages/sklearn/model_selection/_split.py:2026: FutureWarning: From version 0.21, test_size will always complement train_size unless both are specified.\n",
      "  FutureWarning)\n"
     ]
    }
   ],
   "source": [
    "# do train, test split separately on benign and attack\n",
    "benign_train, benign_test = train_test_split(benign, train_size=TRAIN_FRAC)\n",
    "attack_train, attack_test = train_test_split(attack, train_size=TRAIN_FRAC)"
   ]
  },
  {
   "cell_type": "code",
   "execution_count": 12,
   "metadata": {},
   "outputs": [],
   "source": [
    "# concat to get testing data\n",
    "test_np = np.concatenate([benign_test, attack_test])"
   ]
  },
  {
   "cell_type": "markdown",
   "metadata": {},
   "source": [
    "## Generate Dataset"
   ]
  },
  {
   "cell_type": "code",
   "execution_count": 13,
   "metadata": {},
   "outputs": [],
   "source": [
    "# convert to benign train dataset and attack train dataset\n",
    "benign_train_dataset, attack_train_dataset = tf.data.Dataset.from_tensor_slices(benign_train), tf.data.Dataset.from_tensor_slices(attack_train)"
   ]
  },
  {
   "cell_type": "code",
   "execution_count": 14,
   "metadata": {},
   "outputs": [
    {
     "name": "stdout",
     "output_type": "stream",
     "text": [
      "benign example features: tf.Tensor(\n",
      "[7.97442081e-01 1.24760226e-03 4.21710126e-04 0.00000000e+00\n",
      " 0.00000000e+00 0.00000000e+00 0.00000000e+00 1.19521912e-02\n",
      " 7.89375963e-04 0.00000000e+00 4.28805081e-04 7.89375963e-04\n",
      " 0.00000000e+00 0.00000000e+00 0.00000000e+00 0.00000000e+00\n",
      " 0.00000000e+00 0.00000000e+00 0.00000000e+00 0.00000000e+00\n",
      " 0.00000000e+00 0.00000000e+00 0.00000000e+00 8.50946146e-05\n",
      " 1.97636270e-05 0.00000000e+00 1.00000000e+00 1.42857143e-01\n",
      " 0.00000000e+00 8.50946146e-05 0.00000000e+00 0.00000000e+00\n",
      " 0.00000000e+00 0.00000000e+00 0.00000000e+00 0.00000000e+00\n",
      " 3.63159180e-03 0.00000000e+00 0.00000000e+00 0.00000000e+00\n",
      " 0.00000000e+00], shape=(41,), dtype=float64)\n",
      "benign example label: tf.Tensor(0, shape=(), dtype=int32)\n"
     ]
    }
   ],
   "source": [
    "# deal with benign train dataset\n",
    "benign_train_dataset = benign_train_dataset.map(parse_feature_label)\n",
    "benign_train_dataset = benign_train_dataset.shuffle(buffer_size=benign_train.shape[0] * 5)  # randomize\n",
    "benign_train_dataset = benign_train_dataset.batch(100) # make batch\n",
    "\n",
    "# View a single example entry from a batch\n",
    "benign_features, benign_label = iter(benign_train_dataset).next()\n",
    "print(\"benign example features:\", benign_features[0])\n",
    "print(\"benign example label:\", benign_label[0])"
   ]
  },
  {
   "cell_type": "code",
   "execution_count": 15,
   "metadata": {},
   "outputs": [
    {
     "name": "stdout",
     "output_type": "stream",
     "text": [
      "attack example features: tf.Tensor(\n",
      "[2.43622449e-01 0.00000000e+00 8.26929013e-01 1.58289242e-01\n",
      " 1.00000000e+00 3.74644243e-01 0.00000000e+00 1.15749734e-05\n",
      " 1.93007643e-01 4.64163823e-01 8.32203388e-01 1.10229277e-04\n",
      " 8.25210083e-01 4.17302792e-01 5.93195266e-01 3.84172109e-05\n",
      " 1.25524370e-03 2.44075163e-04 9.48589518e-04 9.80392157e-09\n",
      " 0.00000000e+00 0.00000000e+00 0.00000000e+00 4.61538462e-01\n",
      " 7.11695290e-08 5.32220274e-01 1.00000000e+00 5.00000000e-01\n",
      " 1.79949875e-01 4.61538462e-01 0.00000000e+00 0.00000000e+00\n",
      " 0.00000000e+00 0.00000000e+00 4.16666667e-01 1.58289242e-01\n",
      " 9.38356164e-03 1.11111111e-01 0.00000000e+00 2.99672233e-02\n",
      " 8.32203390e-01], shape=(41,), dtype=float64)\n",
      "attack example label: tf.Tensor(1, shape=(), dtype=int32)\n"
     ]
    }
   ],
   "source": [
    "# deal with attack train dataset\n",
    "attack_train_dataset = attack_train_dataset.map(parse_feature_label)\n",
    "attack_train_dataset = attack_train_dataset.shuffle(buffer_size=attack_train.shape[0] * 5)  # randomize\n",
    "attack_train_dataset = attack_train_dataset.batch(100) # make batch\n",
    "\n",
    "# View a single example entry from a batch\n",
    "attack_features, attack_label = iter(attack_train_dataset).next()\n",
    "print(\"attack example features:\", attack_features[0])\n",
    "print(\"attack example label:\", attack_label[0])"
   ]
  },
  {
   "cell_type": "markdown",
   "metadata": {},
   "source": [
    "## Build Model"
   ]
  },
  {
   "cell_type": "code",
   "execution_count": 16,
   "metadata": {},
   "outputs": [],
   "source": [
    "generator = Generator(input_shape=len(RELEVANT_FEATURES), output_shape=FEATURE_NUM_MODIFIED)\n",
    "discriminator = Discriminator()"
   ]
  },
  {
   "cell_type": "markdown",
   "metadata": {},
   "source": [
    "## Build Optimizer"
   ]
  },
  {
   "cell_type": "code",
   "execution_count": 17,
   "metadata": {},
   "outputs": [],
   "source": [
    "generator_optimizer = tf.train.AdamOptimizer(learning_rate=LEARNING_RATE)\n",
    "discriminator_optimizer = tf.train.AdamOptimizer(learning_rate=LEARNING_RATE)"
   ]
  },
  {
   "cell_type": "markdown",
   "metadata": {},
   "source": [
    "## Build Tensorflow Training Environment"
   ]
  },
  {
   "cell_type": "code",
   "execution_count": 18,
   "metadata": {},
   "outputs": [
    {
     "data": {
      "text/plain": [
       "<tensorflow.contrib.eager.python.checkpointable_utils.InitializationOnlyStatus at 0x2b18af00f208>"
      ]
     },
     "execution_count": 18,
     "metadata": {},
     "output_type": "execute_result"
    }
   ],
   "source": [
    "step_counter = tf.train.get_or_create_global_step()\n",
    "summary_writer = tf.contrib.summary.create_file_writer(\n",
    "      OUTPUT_DIR, flush_millis=1000)\n",
    "checkpoint_prefix = os.path.join(CHECKPOINT_DIR, 'ckpt')\n",
    "latest_cpkt = tf.train.latest_checkpoint(CHECKPOINT_DIR)\n",
    "if latest_cpkt:\n",
    "    print('Using latest checkpoint at ' + latest_cpkt)\n",
    "model_objects = {\n",
    "    'generator': generator,\n",
    "    'discriminator': discriminator,\n",
    "    'generator_optimizer': generator_optimizer,\n",
    "    'discriminator_optimizer': discriminator_optimizer,\n",
    "    'step_counter': step_counter\n",
    "}\n",
    "checkpoint = tfe.Checkpoint(**model_objects)\n",
    "# Restore variables on creation if a checkpoint exists.\n",
    "checkpoint.restore(latest_cpkt)"
   ]
  },
  {
   "cell_type": "markdown",
   "metadata": {},
   "source": [
    "## Train"
   ]
  },
  {
   "cell_type": "code",
   "execution_count": 20,
   "metadata": {},
   "outputs": [
    {
     "name": "stdout",
     "output_type": "stream",
     "text": [
      "\n",
      "Train time for epoch #1 (step 15): 2.254277\n",
      "\n",
      "Train time for epoch #2 (step 30): 0.927645\n",
      "\n",
      "Train time for epoch #3 (step 45): 0.852562\n",
      "\n",
      "Train time for epoch #4 (step 60): 0.969542\n",
      "\n",
      "Train time for epoch #5 (step 75): 0.868877\n",
      "\n",
      "Train time for epoch #6 (step 90): 0.953642\n",
      "\n",
      "Train time for epoch #7 (step 105): 1.033413\n",
      "\n",
      "Train time for epoch #8 (step 120): 0.849896\n",
      "\n",
      "Train time for epoch #9 (step 135): 0.909073\n",
      "\n",
      "Train time for epoch #10 (step 150): 0.888955\n",
      "\n",
      "Train time for epoch #11 (step 165): 0.971977\n",
      "\n",
      "Train time for epoch #12 (step 180): 0.933259\n",
      "\n",
      "Train time for epoch #13 (step 195): 0.846024\n",
      "\n",
      "Train time for epoch #14 (step 210): 0.953053\n",
      "\n",
      "Train time for epoch #15 (step 225): 0.868535\n",
      "\n",
      "Train time for epoch #16 (step 240): 1.018346\n",
      "\n",
      "Train time for epoch #17 (step 255): 0.976078\n",
      "\n",
      "Train time for epoch #18 (step 270): 0.802686\n",
      "\n",
      "Train time for epoch #19 (step 285): 0.928667\n",
      "\n",
      "Train time for epoch #20 (step 300): 1.008158\n",
      "\n",
      "Train time for epoch #21 (step 315): 0.888731\n",
      "\n",
      "Train time for epoch #22 (step 330): 0.909733\n",
      "\n",
      "Train time for epoch #23 (step 345): 0.880855\n",
      "\n",
      "Train time for epoch #24 (step 360): 0.901104\n",
      "\n",
      "Train time for epoch #25 (step 375): 0.841704\n",
      "\n",
      "Train time for epoch #26 (step 390): 0.847189\n",
      "\n",
      "Train time for epoch #27 (step 405): 0.856425\n",
      "\n",
      "Train time for epoch #28 (step 420): 0.829641\n",
      "\n",
      "Train time for epoch #29 (step 435): 0.952288\n",
      "\n",
      "Train time for epoch #30 (step 450): 1.014429\n",
      "\n",
      "Train time for epoch #31 (step 465): 0.899667\n",
      "\n",
      "Train time for epoch #32 (step 480): 0.941330\n",
      "\n",
      "Train time for epoch #33 (step 495): 0.999897\n",
      "\n",
      "Train time for epoch #34 (step 510): 0.882252\n",
      "\n",
      "Train time for epoch #35 (step 525): 0.828638\n",
      "\n",
      "Train time for epoch #36 (step 540): 0.934754\n",
      "\n",
      "Train time for epoch #37 (step 555): 0.831264\n",
      "\n",
      "Train time for epoch #38 (step 570): 0.868577\n",
      "\n",
      "Train time for epoch #39 (step 585): 0.954433\n",
      "\n",
      "Train time for epoch #40 (step 600): 0.972019\n",
      "\n",
      "Train time for epoch #41 (step 615): 0.951395\n",
      "\n",
      "Train time for epoch #42 (step 630): 0.849461\n",
      "\n",
      "Train time for epoch #43 (step 645): 1.075721\n",
      "\n",
      "Train time for epoch #44 (step 660): 0.974200\n",
      "\n",
      "Train time for epoch #45 (step 675): 0.979047\n",
      "\n",
      "Train time for epoch #46 (step 690): 0.936814\n",
      "\n",
      "Train time for epoch #47 (step 705): 0.860611\n",
      "\n",
      "Train time for epoch #48 (step 720): 0.932582\n",
      "\n",
      "Train time for epoch #49 (step 735): 0.849207\n",
      "\n",
      "Train time for epoch #50 (step 750): 0.902837\n",
      "\n",
      "Train time for epoch #51 (step 765): 0.864873\n",
      "\n",
      "Train time for epoch #52 (step 780): 0.841907\n",
      "\n",
      "Train time for epoch #53 (step 795): 0.975842\n",
      "\n",
      "Train time for epoch #54 (step 810): 0.812822\n",
      "\n",
      "Train time for epoch #55 (step 825): 0.945786\n",
      "\n",
      "Train time for epoch #56 (step 840): 0.868327\n",
      "\n",
      "Train time for epoch #57 (step 855): 1.061635\n",
      "\n",
      "Train time for epoch #58 (step 870): 0.879189\n",
      "\n",
      "Train time for epoch #59 (step 885): 0.852674\n",
      "\n",
      "Train time for epoch #60 (step 900): 0.961256\n",
      "\n",
      "Train time for epoch #61 (step 915): 0.865183\n",
      "\n",
      "Train time for epoch #62 (step 930): 0.914502\n",
      "\n",
      "Train time for epoch #63 (step 945): 0.910640\n",
      "\n",
      "Train time for epoch #64 (step 960): 1.063140\n",
      "\n",
      "Train time for epoch #65 (step 975): 0.899504\n",
      "\n",
      "Train time for epoch #66 (step 990): 0.889057\n",
      "\n",
      "Train time for epoch #67 (step 1005): 1.000570\n",
      "\n",
      "Train time for epoch #68 (step 1020): 0.835621\n",
      "\n",
      "Train time for epoch #69 (step 1035): 0.977521\n",
      "\n",
      "Train time for epoch #70 (step 1050): 0.918486\n",
      "\n",
      "Train time for epoch #71 (step 1065): 0.903295\n",
      "\n",
      "Train time for epoch #72 (step 1080): 0.892952\n",
      "\n",
      "Train time for epoch #73 (step 1095): 0.913813\n",
      "\n",
      "Train time for epoch #74 (step 1110): 1.023523\n",
      "\n",
      "Train time for epoch #75 (step 1125): 0.834064\n",
      "\n",
      "Train time for epoch #76 (step 1140): 0.863753\n",
      "\n",
      "Train time for epoch #77 (step 1155): 0.886120\n",
      "\n",
      "Train time for epoch #78 (step 1170): 0.858075\n",
      "\n",
      "Train time for epoch #79 (step 1185): 0.931748\n",
      "\n",
      "Train time for epoch #80 (step 1200): 1.033016\n",
      "\n",
      "Train time for epoch #81 (step 1215): 0.952427\n",
      "\n",
      "Train time for epoch #82 (step 1230): 0.790588\n",
      "\n",
      "Train time for epoch #83 (step 1245): 0.912015\n",
      "\n",
      "Train time for epoch #84 (step 1260): 0.842220\n",
      "\n",
      "Train time for epoch #85 (step 1275): 0.901370\n",
      "\n",
      "Train time for epoch #86 (step 1290): 0.845084\n",
      "\n",
      "Train time for epoch #87 (step 1305): 0.907921\n",
      "\n",
      "Train time for epoch #88 (step 1320): 0.888786\n",
      "\n",
      "Train time for epoch #89 (step 1335): 0.962735\n",
      "\n",
      "Train time for epoch #90 (step 1350): 0.850545\n",
      "\n",
      "Train time for epoch #91 (step 1365): 0.962730\n",
      "\n",
      "Train time for epoch #92 (step 1380): 0.954040\n",
      "\n",
      "Train time for epoch #93 (step 1395): 0.960269\n",
      "\n",
      "Train time for epoch #94 (step 1410): 0.994480\n",
      "\n",
      "Train time for epoch #95 (step 1425): 0.859649\n",
      "\n",
      "Train time for epoch #96 (step 1440): 0.965686\n",
      "\n",
      "Train time for epoch #97 (step 1455): 0.838382\n",
      "\n",
      "Train time for epoch #98 (step 1470): 0.899774\n",
      "\n",
      "Train time for epoch #99 (step 1485): 0.875030\n",
      "\n",
      "Train time for epoch #100 (step 1500): 1.007299\n",
      "\n",
      "Train time for epoch #101 (step 1515): 0.809472\n",
      "\n",
      "Train time for epoch #102 (step 1530): 0.920241\n",
      "\n",
      "Train time for epoch #103 (step 1545): 0.877764\n",
      "\n",
      "Train time for epoch #104 (step 1560): 0.899892\n",
      "\n",
      "Train time for epoch #105 (step 1575): 1.018948\n",
      "\n",
      "Train time for epoch #106 (step 1590): 0.875390\n",
      "\n",
      "Train time for epoch #107 (step 1605): 0.911379\n",
      "\n",
      "Train time for epoch #108 (step 1620): 0.881087\n",
      "\n",
      "Train time for epoch #109 (step 1635): 0.897877\n",
      "\n",
      "Train time for epoch #110 (step 1650): 0.803148\n",
      "\n",
      "Train time for epoch #111 (step 1665): 0.966157\n",
      "\n",
      "Train time for epoch #112 (step 1680): 1.032675\n",
      "\n",
      "Train time for epoch #113 (step 1695): 0.841835\n",
      "\n",
      "Train time for epoch #114 (step 1710): 0.911148\n",
      "\n",
      "Train time for epoch #115 (step 1725): 0.804019\n",
      "\n",
      "Train time for epoch #116 (step 1740): 0.937132\n",
      "\n",
      "Train time for epoch #117 (step 1755): 0.986841\n",
      "\n",
      "Train time for epoch #118 (step 1770): 0.911740\n",
      "\n",
      "Train time for epoch #119 (step 1785): 0.962947\n",
      "\n",
      "Train time for epoch #120 (step 1800): 0.928878\n",
      "\n",
      "Train time for epoch #121 (step 1815): 0.916701\n",
      "\n",
      "Train time for epoch #122 (step 1830): 0.878031\n",
      "\n",
      "Train time for epoch #123 (step 1845): 0.923998\n",
      "\n",
      "Train time for epoch #124 (step 1860): 0.896431\n",
      "\n",
      "Train time for epoch #125 (step 1875): 0.885454\n",
      "\n",
      "Train time for epoch #126 (step 1890): 0.944674\n",
      "\n",
      "Train time for epoch #127 (step 1905): 0.858980\n",
      "\n",
      "Train time for epoch #128 (step 1920): 0.910145\n",
      "\n",
      "Train time for epoch #129 (step 1935): 0.841827\n",
      "\n",
      "Train time for epoch #130 (step 1950): 1.003616\n",
      "\n",
      "Train time for epoch #131 (step 1965): 0.948036\n",
      "\n",
      "Train time for epoch #132 (step 1980): 0.926079\n",
      "\n",
      "Train time for epoch #133 (step 1995): 1.017648\n",
      "\n",
      "Train time for epoch #134 (step 2010): 0.956351\n",
      "\n",
      "Train time for epoch #135 (step 2025): 1.011974\n",
      "\n",
      "Train time for epoch #136 (step 2040): 0.841009\n",
      "\n",
      "Train time for epoch #137 (step 2055): 0.925669\n",
      "\n",
      "Train time for epoch #138 (step 2070): 0.883090\n",
      "\n",
      "Train time for epoch #139 (step 2085): 0.915260\n",
      "\n",
      "Train time for epoch #140 (step 2100): 0.914316\n",
      "\n",
      "Train time for epoch #141 (step 2115): 0.887966\n",
      "\n",
      "Train time for epoch #142 (step 2130): 0.969961\n",
      "\n",
      "Train time for epoch #143 (step 2145): 0.883335\n",
      "\n",
      "Train time for epoch #144 (step 2160): 0.857300\n",
      "\n",
      "Train time for epoch #145 (step 2175): 0.922192\n",
      "\n",
      "Train time for epoch #146 (step 2190): 0.950089\n",
      "\n",
      "Train time for epoch #147 (step 2205): 0.921771\n",
      "\n",
      "Train time for epoch #148 (step 2220): 0.849326\n",
      "\n",
      "Train time for epoch #149 (step 2235): 0.905110\n",
      "\n",
      "Train time for epoch #150 (step 2250): 0.850343\n",
      "\n",
      "Train time for epoch #151 (step 2265): 0.914385\n",
      "\n",
      "Train time for epoch #152 (step 2280): 0.901615\n",
      "\n",
      "Train time for epoch #153 (step 2295): 0.944842\n",
      "\n",
      "Train time for epoch #154 (step 2310): 0.804820\n",
      "\n",
      "Train time for epoch #155 (step 2325): 0.914429\n",
      "\n",
      "Train time for epoch #156 (step 2340): 0.794162\n",
      "\n",
      "Train time for epoch #157 (step 2355): 0.898375\n",
      "\n",
      "Train time for epoch #158 (step 2370): 1.000780\n",
      "\n",
      "Train time for epoch #159 (step 2385): 0.907397\n",
      "\n",
      "Train time for epoch #160 (step 2400): 0.948825\n",
      "\n",
      "Train time for epoch #161 (step 2415): 0.863189\n",
      "\n",
      "Train time for epoch #162 (step 2430): 0.880797\n",
      "\n",
      "Train time for epoch #163 (step 2445): 0.970825\n",
      "\n",
      "Train time for epoch #164 (step 2460): 0.908735\n",
      "\n",
      "Train time for epoch #165 (step 2475): 0.970722\n",
      "\n",
      "Train time for epoch #166 (step 2490): 0.899836\n",
      "\n",
      "Train time for epoch #167 (step 2505): 0.870656\n",
      "\n",
      "Train time for epoch #168 (step 2520): 0.895857\n",
      "\n",
      "Train time for epoch #169 (step 2535): 0.891701\n",
      "\n",
      "Train time for epoch #170 (step 2550): 0.957196\n",
      "\n",
      "Train time for epoch #171 (step 2565): 0.875758\n"
     ]
    },
    {
     "name": "stdout",
     "output_type": "stream",
     "text": [
      "\n",
      "Train time for epoch #172 (step 2580): 1.066218\n",
      "\n",
      "Train time for epoch #173 (step 2595): 0.912967\n",
      "\n",
      "Train time for epoch #174 (step 2610): 0.973204\n",
      "\n",
      "Train time for epoch #175 (step 2625): 0.869637\n",
      "\n",
      "Train time for epoch #176 (step 2640): 0.905574\n",
      "\n",
      "Train time for epoch #177 (step 2655): 0.925441\n",
      "\n",
      "Train time for epoch #178 (step 2670): 0.906234\n",
      "\n",
      "Train time for epoch #179 (step 2685): 0.912068\n",
      "\n",
      "Train time for epoch #180 (step 2700): 0.845212\n",
      "\n",
      "Train time for epoch #181 (step 2715): 0.927749\n",
      "\n",
      "Train time for epoch #182 (step 2730): 0.836305\n",
      "\n",
      "Train time for epoch #183 (step 2745): 0.951275\n",
      "\n",
      "Train time for epoch #184 (step 2760): 1.003613\n",
      "\n",
      "Train time for epoch #185 (step 2775): 0.933949\n",
      "\n",
      "Train time for epoch #186 (step 2790): 0.892588\n",
      "\n",
      "Train time for epoch #187 (step 2805): 0.842590\n",
      "\n",
      "Train time for epoch #188 (step 2820): 0.984094\n",
      "\n",
      "Train time for epoch #189 (step 2835): 0.861992\n",
      "\n",
      "Train time for epoch #190 (step 2850): 1.035108\n",
      "\n",
      "Train time for epoch #191 (step 2865): 0.968965\n",
      "\n",
      "Train time for epoch #192 (step 2880): 0.902054\n",
      "\n",
      "Train time for epoch #193 (step 2895): 0.859779\n",
      "\n",
      "Train time for epoch #194 (step 2910): 0.804845\n",
      "\n",
      "Train time for epoch #195 (step 2925): 0.971823\n",
      "\n",
      "Train time for epoch #196 (step 2940): 0.899871\n",
      "\n",
      "Train time for epoch #197 (step 2955): 0.951437\n",
      "\n",
      "Train time for epoch #198 (step 2970): 1.016443\n",
      "\n",
      "Train time for epoch #199 (step 2985): 0.935699\n",
      "\n",
      "Train time for epoch #200 (step 3000): 1.044214\n"
     ]
    }
   ],
   "source": [
    "with tf.device('/gpu:0'):\n",
    "    for _ in range(EPOCHS):\n",
    "        start = time.time()\n",
    "        with summary_writer.as_default():\n",
    "            train_one_epoch(benign_dataset=benign_train_dataset,\n",
    "                        attack_dataset=attack_train_dataset,\n",
    "                        log_interval=LOG_INTERVAL,\n",
    "                        modified_feature_num=FEATURE_NUM_MODIFIED,\n",
    "                        **model_objects)\n",
    "        end = time.time()\n",
    "        checkpoint.save(checkpoint_prefix)\n",
    "        print('\\nTrain time for epoch #%d (step %d): %f' %\n",
    "            (checkpoint.save_counter.numpy(),\n",
    "             checkpoint.step_counter.numpy(),\n",
    "             end - start))"
   ]
  },
  {
   "cell_type": "code",
   "execution_count": null,
   "metadata": {},
   "outputs": [],
   "source": []
  }
 ],
 "metadata": {
  "kernelspec": {
   "display_name": "Python 3",
   "language": "python",
   "name": "python3"
  },
  "language_info": {
   "codemirror_mode": {
    "name": "ipython",
    "version": 3
   },
   "file_extension": ".py",
   "mimetype": "text/x-python",
   "name": "python",
   "nbconvert_exporter": "python",
   "pygments_lexer": "ipython3",
   "version": "3.6.3"
  }
 },
 "nbformat": 4,
 "nbformat_minor": 2
}
