{
 "cells": [
  {
   "cell_type": "markdown",
   "metadata": {},
   "source": [
    "# Generative Adversarial Network\n",
    "\n",
    "In this notebook, we'll be building a generative adversarial network (GAN) trained on the network flow dataset."
   ]
  },
  {
   "cell_type": "code",
   "execution_count": 1,
   "metadata": {},
   "outputs": [
    {
     "name": "stderr",
     "output_type": "stream",
     "text": [
      "/scratch/sj2363/hsn/attack_generate/gan_attack_generate/.env/lib/python3.6/site-packages/h5py/__init__.py:36: FutureWarning: Conversion of the second argument of issubdtype from `float` to `np.floating` is deprecated. In future, it will be treated as `np.float64 == np.dtype(float).type`.\n",
      "  from ._conv import register_converters as _register_converters\n"
     ]
    }
   ],
   "source": [
    "%matplotlib inline\n",
    "\n",
    "import numpy as np\n",
    "import tensorflow as tf\n",
    "import matplotlib.pyplot as plt"
   ]
  },
  {
   "cell_type": "code",
   "execution_count": 2,
   "metadata": {},
   "outputs": [],
   "source": [
    "from importlib import reload\n",
    "import utils, models\n",
    "reload(utils)\n",
    "reload(models)\n",
    "from utils import model_inputs, get_flow_dataset\n",
    "from models import generator, discriminator"
   ]
  },
  {
   "cell_type": "code",
   "execution_count": 3,
   "metadata": {},
   "outputs": [],
   "source": [
    "benign, attack = get_flow_dataset()"
   ]
  },
  {
   "cell_type": "code",
   "execution_count": 4,
   "metadata": {},
   "outputs": [
    {
     "data": {
      "text/plain": [
       "(9993, 40)"
      ]
     },
     "execution_count": 4,
     "metadata": {},
     "output_type": "execute_result"
    }
   ],
   "source": [
    "benign.shape"
   ]
  },
  {
   "cell_type": "code",
   "execution_count": 5,
   "metadata": {},
   "outputs": [
    {
     "data": {
      "text/plain": [
       "(9993, 40)"
      ]
     },
     "execution_count": 5,
     "metadata": {},
     "output_type": "execute_result"
    }
   ],
   "source": [
    "attack.shape"
   ]
  },
  {
   "cell_type": "markdown",
   "metadata": {},
   "source": [
    "## Hyperparameters"
   ]
  },
  {
   "cell_type": "code",
   "execution_count": 6,
   "metadata": {},
   "outputs": [],
   "source": [
    "# Size of input flow to discriminator\n",
    "input_size = 40\n",
    "# Size of latent vector to generator\n",
    "z_size = 2\n",
    "# Sizes of hidden layers in generator and discriminator\n",
    "g_hidden_size = [128, 64]\n",
    "d_hidden_size = [128, 64]\n",
    "# Leak factor for leaky ReLU\n",
    "alpha = 0.01\n",
    "# Smoothing \n",
    "smooth = 0.1"
   ]
  },
  {
   "cell_type": "markdown",
   "metadata": {},
   "source": [
    "## Build network\n",
    "\n",
    "Now we're building the network from the functions defined above.\n",
    "\n",
    "First is to get our inputs, `input_benign, input_z, input_attack_remains` from `model_inputs` using the sizes of the input and z.\n",
    "\n",
    "Then, we'll create the generator, `generator(input_z, z_size)`. This builds the generator with the appropriate input and output sizes.\n",
    "\n",
    "Then the discriminators. We'll build two of them, one for benign flow data and one for attack flow data. Since we want the weights to be the same for both benign and attack flow data, we need to reuse the variables. For the attack flow data, we're getting it from the output of the generator concatenated with remaining part of attack feature called `g_model`. So the benign data discriminator is `discriminator(input_benign)` while the attack discriminator is `discriminator(g_model, reuse=True)`."
   ]
  },
  {
   "cell_type": "code",
   "execution_count": 7,
   "metadata": {},
   "outputs": [],
   "source": [
    "tf.reset_default_graph()\n",
    "\n",
    "# Create our input placeholders\n",
    "input_benign, input_z, input_attack_remains = model_inputs(input_size, z_size, attack_remains_dim=input_size - z_size)\n",
    "\n",
    "# Build the model\n",
    "z_generated, g_hidden = generator(input_z, z_size, n_units=[z_size] + g_hidden_size, alpha=alpha)\n",
    "g_model = tf.concat([z_generated, input_attack_remains], 1)\n",
    "# g_model is the generator output concatenated with the remaining part of attack features\n",
    "\n",
    "d_model_benign, d_logits_benign, d_hidden_benign = discriminator(input_benign,\n",
    "                                                                 n_units= [input_size] + d_hidden_size,\n",
    "                                                                 alpha=alpha)\n",
    "d_model_attack, d_logits_attack, d_hidden_attack = discriminator(g_model,\n",
    "                                                                 reuse=True,\n",
    "                                                                 n_units=[input_size] + d_hidden_size,\n",
    "                                                                 alpha=alpha)"
   ]
  },
  {
   "cell_type": "markdown",
   "metadata": {},
   "source": [
    "## Discriminator and Generator Losses\n",
    "\n",
    "Now we need to calculate the losses, which is a little tricky. For the discriminator, the total loss is the sum of the losses for benign and attack flows, `d_loss = d_loss_benign + d_loss_attack`. The losses will by sigmoid cross-entropys, which we can get with `tf.nn.sigmoid_cross_entropy_with_logits`. We'll also wrap that in `tf.reduce_mean` to get the mean for all the flows in the batch. So the losses will look something like \n",
    "\n",
    "```python\n",
    "tf.reduce_mean(tf.nn.sigmoid_cross_entropy_with_logits(logits=logits, labels=labels))\n",
    "```\n",
    "\n",
    "For the benign flow logits, we'll use `d_logits_benign` which we got from the discriminator in the cell above. For the labels, we want them to be all zeros, since these are all benign flows. In TensorFlow, it looks something like `labels = tf.zeros_like(tensor)`\n",
    "\n",
    "The discriminator loss for the attack flow data is similar. The logits are `d_logits_attack`, which we got from passing the generator output concatenated with remaing part of attack flow features to the discriminator. These attack logits are used with labels of all ones. Remember that we want the discriminator to output 0 for benign flows and 1 for attack flows, so we need to set up the losses to reflect that.\n",
    "\n",
    "Finally, the generator losses are using `d_logits_attack`, the attack flow logits. But, now the labels are all zeros. The generator is trying to fool the discriminator, so it wants to discriminator to output zeros for attack flows."
   ]
  },
  {
   "cell_type": "code",
   "execution_count": 8,
   "metadata": {},
   "outputs": [],
   "source": [
    "# Calculate losses\n",
    "d_loss_benign = tf.reduce_mean(\n",
    "                  tf.nn.sigmoid_cross_entropy_with_logits(logits=d_logits_benign, \n",
    "                                                          labels=tf.zeros_like(d_logits_benign)))\n",
    "d_loss_attack = tf.reduce_mean(\n",
    "                  tf.nn.sigmoid_cross_entropy_with_logits(logits=d_logits_attack, \n",
    "                                                          labels=tf.ones_like(d_logits_attack)))\n",
    "d_loss = d_loss_benign + d_loss_attack\n",
    "\n",
    "g_loss = tf.reduce_mean(\n",
    "             tf.nn.sigmoid_cross_entropy_with_logits(logits=d_logits_attack,\n",
    "                                                     labels=tf.zeros_like(d_logits_attack)))"
   ]
  },
  {
   "cell_type": "markdown",
   "metadata": {},
   "source": [
    "## Optimizers\n",
    "\n",
    "We want to update the generator and discriminator variables separately. So we need to get the variables for each part build optimizers for the two parts. To get all the trainable variables, we use `tf.trainable_variables()`. This creates a list of all the variables we've defined in our graph.\n",
    "\n",
    "For the generator optimizer, we only want to generator variables. Our past selves were nice and used a variable scope to start all of our generator variable names with `generator`. So, we just need to iterate through the list from `tf.trainable_variables()` and keep variables to start with `generator`. Each variable object has an attribute `name` which holds the name of the variable as a string (`var.name == 'weights_0'` for instance). \n",
    "\n",
    "We can do something similar with the discriminator. All the variables in the discriminator start with `discriminator`.\n",
    "\n",
    "Then, in the optimizer we pass the variable lists to `var_list` in the `minimize` method. This tells the optimizer to only update the listed variables. Something like `tf.train.AdamOptimizer().minimize(loss, var_list=var_list)` will only train the variables in `var_list`."
   ]
  },
  {
   "cell_type": "code",
   "execution_count": 9,
   "metadata": {
    "scrolled": true
   },
   "outputs": [],
   "source": [
    "# Optimizers\n",
    "learning_rate = 0.002\n",
    "\n",
    "# Get the trainable_variables, split into G and D parts\n",
    "t_vars = tf.trainable_variables()\n",
    "g_vars = [var for var in t_vars if var.name.startswith('generator')]\n",
    "d_vars = [var for var in t_vars if var.name.startswith('discriminator')]\n",
    "\n",
    "d_train_opt = tf.train.AdamOptimizer(learning_rate).minimize(d_loss, var_list=d_vars)\n",
    "g_train_opt = tf.train.AdamOptimizer(learning_rate).minimize(g_loss, var_list=g_vars)"
   ]
  },
  {
   "cell_type": "markdown",
   "metadata": {},
   "source": [
    "## Training"
   ]
  },
  {
   "cell_type": "code",
   "execution_count": 10,
   "metadata": {
    "scrolled": true
   },
   "outputs": [
    {
     "name": "stdout",
     "output_type": "stream",
     "text": [
      "Epoch 1/100... Discriminator Loss: 1.6055... Generator Loss: 0.6469 Time elapsed: 1.0124\n",
      "Epoch 2/100... Discriminator Loss: 0.6212... Generator Loss: 1.2762 Time elapsed: 0.4116\n",
      "Epoch 3/100... Discriminator Loss: 1.6771... Generator Loss: 0.6752 Time elapsed: 0.4187\n",
      "Epoch 4/100... Discriminator Loss: 2.1597... Generator Loss: 0.4894 Time elapsed: 0.4089\n",
      "Epoch 5/100... Discriminator Loss: 1.5177... Generator Loss: 0.6382 Time elapsed: 0.3945\n",
      "Epoch 6/100... Discriminator Loss: 1.6375... Generator Loss: 0.5751 Time elapsed: 0.4170\n",
      "Epoch 7/100... Discriminator Loss: 0.8641... Generator Loss: 0.8600 Time elapsed: 0.4193\n",
      "Epoch 8/100... Discriminator Loss: 1.1115... Generator Loss: 0.9323 Time elapsed: 0.4487\n",
      "Epoch 9/100... Discriminator Loss: 0.2690... Generator Loss: 2.0667 Time elapsed: 0.4205\n",
      "Epoch 10/100... Discriminator Loss: 1.6577... Generator Loss: 0.5242 Time elapsed: 0.4164\n",
      "Epoch 11/100... Discriminator Loss: 1.2061... Generator Loss: 0.9067 Time elapsed: 0.4158\n",
      "Epoch 12/100... Discriminator Loss: 1.2005... Generator Loss: 0.8019 Time elapsed: 0.4234\n",
      "Epoch 13/100... Discriminator Loss: 0.9355... Generator Loss: 0.7971 Time elapsed: 0.4517\n",
      "Epoch 14/100... Discriminator Loss: 1.5294... Generator Loss: 0.6153 Time elapsed: 0.4203\n",
      "Epoch 15/100... Discriminator Loss: 1.4288... Generator Loss: 0.7901 Time elapsed: 0.4098\n",
      "Epoch 16/100... Discriminator Loss: 1.2736... Generator Loss: 0.7599 Time elapsed: 0.4051\n",
      "Epoch 17/100... Discriminator Loss: 1.0097... Generator Loss: 1.0513 Time elapsed: 0.4157\n",
      "Epoch 18/100... Discriminator Loss: 0.6798... Generator Loss: 1.2307 Time elapsed: 0.4183\n",
      "Epoch 19/100... Discriminator Loss: 0.3873... Generator Loss: 1.8068 Time elapsed: 0.4203\n",
      "Epoch 20/100... Discriminator Loss: 0.8546... Generator Loss: 1.2139 Time elapsed: 0.4357\n",
      "Epoch 21/100... Discriminator Loss: 1.5237... Generator Loss: 0.6863 Time elapsed: 0.4331\n",
      "Epoch 22/100... Discriminator Loss: 1.7856... Generator Loss: 0.6702 Time elapsed: 0.4000\n",
      "Epoch 23/100... Discriminator Loss: 2.0319... Generator Loss: 0.3489 Time elapsed: 0.4022\n",
      "Epoch 24/100... Discriminator Loss: 1.3498... Generator Loss: 0.7882 Time elapsed: 0.4309\n",
      "Epoch 25/100... Discriminator Loss: 1.1837... Generator Loss: 0.8512 Time elapsed: 0.4356\n",
      "Epoch 26/100... Discriminator Loss: 1.2592... Generator Loss: 0.7887 Time elapsed: 0.4092\n",
      "Epoch 27/100... Discriminator Loss: 1.3448... Generator Loss: 0.7260 Time elapsed: 0.4199\n",
      "Epoch 28/100... Discriminator Loss: 1.3316... Generator Loss: 0.7104 Time elapsed: 0.4467\n",
      "Epoch 29/100... Discriminator Loss: 1.2549... Generator Loss: 0.7542 Time elapsed: 0.4493\n",
      "Epoch 30/100... Discriminator Loss: 1.2816... Generator Loss: 0.7883 Time elapsed: 0.4348\n",
      "Epoch 31/100... Discriminator Loss: 1.3082... Generator Loss: 0.8249 Time elapsed: 0.4340\n",
      "Epoch 32/100... Discriminator Loss: 1.5508... Generator Loss: 0.9161 Time elapsed: 0.4162\n",
      "Epoch 33/100... Discriminator Loss: 0.3277... Generator Loss: 2.0809 Time elapsed: 0.4179\n",
      "Epoch 34/100... Discriminator Loss: 0.2734... Generator Loss: 2.1032 Time elapsed: 0.4224\n",
      "Epoch 35/100... Discriminator Loss: 1.0051... Generator Loss: 1.0162 Time elapsed: 0.4255\n",
      "Epoch 36/100... Discriminator Loss: 0.4590... Generator Loss: 1.6755 Time elapsed: 0.4148\n",
      "Epoch 37/100... Discriminator Loss: 0.1409... Generator Loss: 3.1606 Time elapsed: 0.4178\n",
      "Epoch 38/100... Discriminator Loss: 1.5515... Generator Loss: 0.6187 Time elapsed: 0.4360\n",
      "Epoch 39/100... Discriminator Loss: 2.8808... Generator Loss: 0.4913 Time elapsed: 0.4198\n",
      "Epoch 40/100... Discriminator Loss: 1.2894... Generator Loss: 0.8960 Time elapsed: 0.4109\n",
      "Epoch 41/100... Discriminator Loss: 0.4843... Generator Loss: 1.7304 Time elapsed: 0.4362\n",
      "Epoch 42/100... Discriminator Loss: 1.6863... Generator Loss: 0.6334 Time elapsed: 0.4268\n",
      "Epoch 43/100... Discriminator Loss: 0.3703... Generator Loss: 2.8278 Time elapsed: 0.4475\n",
      "Epoch 44/100... Discriminator Loss: 1.2993... Generator Loss: 0.8467 Time elapsed: 0.4068\n",
      "Epoch 45/100... Discriminator Loss: 1.3643... Generator Loss: 0.7495 Time elapsed: 0.4144\n",
      "Epoch 46/100... Discriminator Loss: 1.0075... Generator Loss: 0.9287 Time elapsed: 0.4437\n",
      "Epoch 47/100... Discriminator Loss: 1.1817... Generator Loss: 0.7977 Time elapsed: 0.4291\n",
      "Epoch 48/100... Discriminator Loss: 1.2722... Generator Loss: 0.7591 Time elapsed: 0.4308\n",
      "Epoch 49/100... Discriminator Loss: 1.1152... Generator Loss: 0.8653 Time elapsed: 0.4537\n",
      "Epoch 50/100... Discriminator Loss: 1.0881... Generator Loss: 0.8722 Time elapsed: 0.4572\n",
      "Epoch 51/100... Discriminator Loss: 1.2174... Generator Loss: 0.8749 Time elapsed: 0.4578\n",
      "Epoch 52/100... Discriminator Loss: 1.0517... Generator Loss: 1.0215 Time elapsed: 0.4339\n",
      "Epoch 53/100... Discriminator Loss: 0.6914... Generator Loss: 1.5642 Time elapsed: 0.4286\n",
      "Epoch 54/100... Discriminator Loss: 1.0284... Generator Loss: 1.2771 Time elapsed: 0.4331\n",
      "Epoch 55/100... Discriminator Loss: 0.8148... Generator Loss: 1.1069 Time elapsed: 0.4138\n",
      "Epoch 56/100... Discriminator Loss: 1.0795... Generator Loss: 0.9908 Time elapsed: 0.3938\n",
      "Epoch 57/100... Discriminator Loss: 1.4044... Generator Loss: 0.6596 Time elapsed: 0.4082\n",
      "Epoch 58/100... Discriminator Loss: 0.6397... Generator Loss: 1.4207 Time elapsed: 0.4174\n",
      "Epoch 59/100... Discriminator Loss: 1.4461... Generator Loss: 0.6526 Time elapsed: 0.4346\n",
      "Epoch 60/100... Discriminator Loss: 1.3098... Generator Loss: 0.9578 Time elapsed: 0.4233\n",
      "Epoch 61/100... Discriminator Loss: 0.7763... Generator Loss: 1.2851 Time elapsed: 0.4168\n",
      "Epoch 62/100... Discriminator Loss: 1.4646... Generator Loss: 0.7381 Time elapsed: 0.4325\n",
      "Epoch 63/100... Discriminator Loss: 1.0122... Generator Loss: 0.9371 Time elapsed: 0.4173\n",
      "Epoch 64/100... Discriminator Loss: 1.6402... Generator Loss: 0.6270 Time elapsed: 0.4077\n",
      "Epoch 65/100... Discriminator Loss: 1.1056... Generator Loss: 0.8611 Time elapsed: 0.4298\n",
      "Epoch 66/100... Discriminator Loss: 1.0038... Generator Loss: 0.9599 Time elapsed: 0.4250\n",
      "Epoch 67/100... Discriminator Loss: 1.2444... Generator Loss: 0.9747 Time elapsed: 0.4221\n",
      "Epoch 68/100... Discriminator Loss: 1.3217... Generator Loss: 0.9295 Time elapsed: 0.4024\n",
      "Epoch 69/100... Discriminator Loss: 0.4436... Generator Loss: 1.6575 Time elapsed: 0.4394\n",
      "Epoch 70/100... Discriminator Loss: 0.8867... Generator Loss: 1.1582 Time elapsed: 0.4002\n",
      "Epoch 71/100... Discriminator Loss: 1.2616... Generator Loss: 0.8191 Time elapsed: 0.4043\n",
      "Epoch 72/100... Discriminator Loss: 1.5387... Generator Loss: 0.6442 Time elapsed: 0.4045\n",
      "Epoch 73/100... Discriminator Loss: 1.5554... Generator Loss: 0.7406 Time elapsed: 0.4299\n",
      "Epoch 74/100... Discriminator Loss: 1.3951... Generator Loss: 0.6716 Time elapsed: 0.4583\n",
      "Epoch 75/100... Discriminator Loss: 1.3018... Generator Loss: 0.7736 Time elapsed: 0.4131\n",
      "Epoch 76/100... Discriminator Loss: 1.3747... Generator Loss: 0.7492 Time elapsed: 0.4129\n",
      "Epoch 77/100... Discriminator Loss: 1.3286... Generator Loss: 0.7122 Time elapsed: 0.3995\n",
      "Epoch 78/100... Discriminator Loss: 1.3283... Generator Loss: 0.7162 Time elapsed: 0.4191\n",
      "Epoch 79/100... Discriminator Loss: 1.1578... Generator Loss: 0.8494 Time elapsed: 0.4153\n",
      "Epoch 80/100... Discriminator Loss: 1.1546... Generator Loss: 0.9004 Time elapsed: 0.4201\n",
      "Epoch 81/100... Discriminator Loss: 1.4935... Generator Loss: 0.7355 Time elapsed: 0.4368\n",
      "Epoch 82/100... Discriminator Loss: 1.3389... Generator Loss: 0.7947 Time elapsed: 0.4280\n",
      "Epoch 83/100... Discriminator Loss: 1.3087... Generator Loss: 1.0006 Time elapsed: 0.4298\n",
      "Epoch 84/100... Discriminator Loss: 1.4356... Generator Loss: 0.7232 Time elapsed: 0.4589\n",
      "Epoch 85/100... Discriminator Loss: 1.2440... Generator Loss: 0.8448 Time elapsed: 0.4499\n",
      "Epoch 86/100... Discriminator Loss: 1.4974... Generator Loss: 0.6222 Time elapsed: 0.4227\n",
      "Epoch 87/100... Discriminator Loss: 1.3397... Generator Loss: 0.7461 Time elapsed: 0.4107\n",
      "Epoch 88/100... Discriminator Loss: 1.4404... Generator Loss: 0.7154 Time elapsed: 0.3937\n",
      "Epoch 89/100... Discriminator Loss: 1.3012... Generator Loss: 0.8181 Time elapsed: 0.4347\n",
      "Epoch 90/100... Discriminator Loss: 1.4378... Generator Loss: 0.6427 Time elapsed: 0.4105\n",
      "Epoch 91/100... Discriminator Loss: 1.9636... Generator Loss: 0.9705 Time elapsed: 0.4197\n",
      "Epoch 92/100... Discriminator Loss: 0.2213... Generator Loss: 2.8745 Time elapsed: 0.4158\n"
     ]
    },
    {
     "name": "stdout",
     "output_type": "stream",
     "text": [
      "Epoch 93/100... Discriminator Loss: 0.3210... Generator Loss: 2.7679 Time elapsed: 0.4456\n",
      "Epoch 94/100... Discriminator Loss: 0.1762... Generator Loss: 3.0895 Time elapsed: 0.4544\n",
      "Epoch 95/100... Discriminator Loss: 0.1757... Generator Loss: 3.6884 Time elapsed: 0.4563\n",
      "Epoch 96/100... Discriminator Loss: 0.1359... Generator Loss: 3.9597 Time elapsed: 0.4391\n",
      "Epoch 97/100... Discriminator Loss: 0.1131... Generator Loss: 3.3342 Time elapsed: 0.4234\n",
      "Epoch 98/100... Discriminator Loss: 0.1114... Generator Loss: 3.6489 Time elapsed: 0.4493\n",
      "Epoch 99/100... Discriminator Loss: 0.1082... Generator Loss: 4.9047 Time elapsed: 0.4339\n",
      "Epoch 100/100... Discriminator Loss: 0.0604... Generator Loss: 4.3248 Time elapsed: 0.4219\n"
     ]
    }
   ],
   "source": [
    "from copy import deepcopy\n",
    "import time\n",
    "\n",
    "batch_size = 100\n",
    "epochs = 100\n",
    "losses = []\n",
    "original_flows, generated_flows, attack_scores = [], [], []\n",
    "# Only save generator variables\n",
    "saver = tf.train.Saver(var_list=g_vars)\n",
    "with tf.Session() as sess:\n",
    "    sess.run(tf.global_variables_initializer())\n",
    "    for e in range(epochs):\n",
    "        start = time.time()\n",
    "        np.random.shuffle(benign)\n",
    "        np.random.shuffle(attack)\n",
    "        original_flows.append([])\n",
    "        generated_flows.append([])\n",
    "        attack_scores.append([])\n",
    "        for ii in range(benign.shape[0]//batch_size):\n",
    "            batch_benign = benign[ii * batch_size:(ii + 1) * batch_size]\n",
    "            \n",
    "            batch_attack = attack[ii * batch_size:(ii + 1) * batch_size]\n",
    "            batch_z = batch_attack[:,:z_size]\n",
    "            batch_attack_remains = batch_attack[:,z_size:]\n",
    "            \n",
    "            if ii % 5 == 0:\n",
    "                original_flow = batch_attack\n",
    "                generated_flow = sess.run(g_model, feed_dict={input_z: batch_z, input_attack_remains: batch_attack_remains})\n",
    "                attack_score = sess.run(d_model_attack, feed_dict={input_z: batch_z, input_attack_remains: batch_attack_remains})\n",
    "                original_flows[-1].append(deepcopy(original_flow[0]))\n",
    "                generated_flows[-1].append(generated_flow[0])\n",
    "                attack_scores[-1].append(attack_score[0][0])\n",
    "                \n",
    "            \n",
    "            # Run optimizers\n",
    "            _ = sess.run(d_train_opt, feed_dict={input_benign: batch_benign, input_z: batch_z, input_attack_remains: batch_attack_remains})\n",
    "            _ = sess.run(g_train_opt, feed_dict={input_z: batch_z, input_attack_remains: batch_attack_remains})\n",
    "        \n",
    "        # At the end of each epoch, get the losses and print them out\n",
    "        train_loss_d = sess.run(d_loss, {input_z: batch_z, input_benign: batch_benign, input_attack_remains: batch_attack_remains})\n",
    "        train_loss_g = g_loss.eval({input_z: batch_z, input_attack_remains: batch_attack_remains})\n",
    "            \n",
    "        print(\"Epoch {}/{}...\".format(e+1, epochs),\n",
    "              \"Discriminator Loss: {:.4f}...\".format(train_loss_d),\n",
    "              \"Generator Loss: {:.4f}\".format(train_loss_g),\n",
    "              \"Time elapsed: {:.4f}\".format(time.time() - start)\n",
    "             )    \n",
    "        # Save losses to view after training\n",
    "        losses.append((train_loss_d, train_loss_g))\n",
    "        \n",
    "        saver.save(sess, './checkpoints/generator.ckpt')"
   ]
  },
  {
   "cell_type": "markdown",
   "metadata": {},
   "source": [
    "## Training loss\n",
    "\n",
    "Here we'll check out the training losses for the generator and discriminator."
   ]
  },
  {
   "cell_type": "code",
   "execution_count": 11,
   "metadata": {},
   "outputs": [
    {
     "data": {
      "text/plain": [
       "<matplotlib.legend.Legend at 0x2b3fcf6b8780>"
      ]
     },
     "execution_count": 11,
     "metadata": {},
     "output_type": "execute_result"
    },
    {
     "data": {
      "image/png": "[encoded data removed]",
      "text/plain": [
       "<Figure size 432x288 with 1 Axes>"
      ]
     },
     "metadata": {},
     "output_type": "display_data"
    }
   ],
   "source": [
    "fig, ax = plt.subplots()\n",
    "losses = np.array(losses)\n",
    "plt.plot(losses.T[0], label='Discriminator')\n",
    "plt.plot(losses.T[1], label='Generator')\n",
    "plt.title(\"Training Losses\")\n",
    "plt.legend()"
   ]
  },
  {
   "cell_type": "code",
   "execution_count": 12,
   "metadata": {},
   "outputs": [],
   "source": [
    "import math\n",
    "\n",
    "def split_to_two_nearest_factor(x):\n",
    "    sqrt_x = int(math.sqrt(x))\n",
    "    i = sqrt_x\n",
    "    while x % i != 0:\n",
    "        i -= 1\n",
    "    return (i, x // i)"
   ]
  },
  {
   "cell_type": "code",
   "execution_count": 13,
   "metadata": {},
   "outputs": [],
   "source": [
    "fig_size = split_to_two_nearest_factor(input_size)"
   ]
  },
  {
   "cell_type": "code",
   "execution_count": null,
   "metadata": {},
   "outputs": [],
   "source": [
    "import numpy as np\n",
    "import matplotlib.pyplot as plt\n",
    "\n",
    "fooled = 0\n",
    "\n",
    "fig=plt.figure(figsize=(fig_size[0] * 5, fig_size[1] * 5))\n",
    "columns = 2\n",
    "rows = len(original_flows)\n",
    "for i in range(rows):\n",
    "    original_img = original_flows[i][0]\n",
    "    generated_img = generated_flows[i][0]\n",
    "    ax_original = fig.add_subplot(rows, columns, i * 2 + 1)\n",
    "    ax_original.set_title('Epoch {epoch}'.format(epoch=i + 1))\n",
    "    plt.imshow(original_img.reshape(fig_size[0],fig_size[1]), cmap='gray')\n",
    "    ax_generated = fig.add_subplot(rows, columns, i * 2 + 2)\n",
    "    plt.imshow(generated_img.reshape(fig_size[0],fig_size[1]), cmap='gray')\n",
    "    if attack_scores[i][0] <= 0.5:\n",
    "        ax_generated.set_title('Fooled:' + str(attack_scores[i][0]))\n",
    "        fooled += 1\n",
    "    else:\n",
    "        ax_generated.set_title('Just close:' + str(attack_scores[i][0]))\n",
    "plt.show()\n",
    "print('Fooled rate:', fooled / len(original_flows))"
   ]
  },
  {
   "cell_type": "markdown",
   "metadata": {},
   "source": [
    "# Test"
   ]
  },
  {
   "cell_type": "code",
   "execution_count": null,
   "metadata": {},
   "outputs": [],
   "source": [
    "from importlib import reload\n",
    "import utils, models\n",
    "reload(utils)\n",
    "reload(models)\n",
    "from utils import model_inputs, get_flow_dataset\n",
    "import pandas as pd"
   ]
  },
  {
   "cell_type": "code",
   "execution_count": null,
   "metadata": {},
   "outputs": [],
   "source": [
    "import os\n",
    "df = get_flow_dataset(os.path.join('data', 'ids2017_sampled.csv'))"
   ]
  },
  {
   "cell_type": "code",
   "execution_count": null,
   "metadata": {},
   "outputs": [],
   "source": [
    "df.shape"
   ]
  },
  {
   "cell_type": "code",
   "execution_count": null,
   "metadata": {},
   "outputs": [],
   "source": [
    "(df[' Label'] == 0).shape"
   ]
  },
  {
   "cell_type": "code",
   "execution_count": null,
   "metadata": {},
   "outputs": [],
   "source": []
  }
 ],
 "metadata": {
  "kernelspec": {
   "display_name": "Python 3",
   "language": "python",
   "name": "python3"
  },
  "language_info": {
   "codemirror_mode": {
    "name": "ipython",
    "version": 3
   },
   "file_extension": ".py",
   "mimetype": "text/x-python",
   "name": "python",
   "nbconvert_exporter": "python",
   "pygments_lexer": "ipython3",
   "version": "3.6.3"
  }
 },
 "nbformat": 4,
 "nbformat_minor": 2
}
